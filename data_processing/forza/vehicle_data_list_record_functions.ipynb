{
 "cells": [
  {
   "cell_type": "markdown",
   "id": "c808c04f-36f4-4a9a-802f-0d3c5d53a904",
   "metadata": {},
   "source": [
    "# Forza"
   ]
  },
  {
   "cell_type": "markdown",
   "id": "3fc2bda0-fd8b-4be6-8d8f-284156f725ec",
   "metadata": {},
   "source": [
    "## Vehicle Data List Record Functions"
   ]
  },
  {
   "cell_type": "code",
   "execution_count": null,
   "id": "094702eb-0af2-4f50-b82a-b051675f8ddd",
   "metadata": {},
   "outputs": [],
   "source": [
    "def forza_vehicle_name(game, name_sublist, alt = False):    \n",
    "    vehicle_name_replace_dict = {\n",
    "        \"\\'\\'\": \"\",\n",
    "        \"F.E.\": \"Forza Edition\"\n",
    "    }\n",
    "    for i in range(len(name_sublist)):\n",
    "        for old, new in vehicle_name_replace_dict.items():\n",
    "            name_sublist[i] = name_sublist[i].replace(old, new)\n",
    "        name_sublist[i] = name_sublist[i].strip()\n",
    "        \n",
    "    if alt == False:\n",
    "        if \"#\" in name_sublist[-1]:\n",
    "            return name_sublist[-1]\n",
    "        return name_sublist[0]\n",
    "    else:\n",
    "        if \"#\" in name_sublist[-1]:\n",
    "            return name_sublist[0]\n",
    "        if name_sublist[0] != name_sublist[-1]:\n",
    "            return name_sublist[-1]\n",
    "        return None"
   ]
  },
  {
   "cell_type": "code",
   "execution_count": null,
   "id": "7a6542bf-548a-471c-aa92-a0e2b6c84f18",
   "metadata": {},
   "outputs": [],
   "source": [
    "def forza_year(year):\n",
    "    year = year.strip()\n",
    "    return (\n",
    "        int(year)\n",
    "        if year != \"\" \n",
    "        else None\n",
    "    )"
   ]
  },
  {
   "cell_type": "code",
   "execution_count": null,
   "id": "83e79fb7-ab6b-4419-8a82-a5555ef2092a",
   "metadata": {},
   "outputs": [],
   "source": [
    "def forza_how_to_obtain(game, how_to_obtain, how_to_obtain_2nd = None):\n",
    "    if isinstance(how_to_obtain, list): \n",
    "        for i in range(len(how_to_obtain)):\n",
    "            how_to_obtain[i] = how_to_obtain[i].strip()\n",
    "    else:\n",
    "        how_to_obtain = how_to_obtain.strip()\n",
    "    if how_to_obtain_2nd != None:\n",
    "        how_to_obtain_2nd = how_to_obtain_2nd.strip()\n",
    "    if game in [\"Forza Motorsport 2\", \"Forza Motorsport 3\", \"Forza Motorsport 4\", \"Forza Motorsport 5\", \"Forza Motorsport 6\", \"Forza Horizon 1\"]:\n",
    "        return (\n",
    "            forza_how_to_obtain_dict[game][how_to_obtain].strip() \n",
    "            if how_to_obtain in forza_how_to_obtain_dict[game].keys() \n",
    "            else forza_default_how_to_obtain_dict[game].strip() \n",
    "        )\n",
    "    if game in [\"Forza Motorsport 7\", \"Forza Horizon 3\",]:\n",
    "        return (\n",
    "            forza_how_to_obtain_dict[game][how_to_obtain[0]].strip() \n",
    "            if len(how_to_obtain) > 0 \n",
    "                and how_to_obtain[0] in forza_how_to_obtain_dict[game].keys() \n",
    "            else forza_default_how_to_obtain_dict[game].strip() \n",
    "        )\n",
    "    if game in [\"Forza Horizon 2\"]:\n",
    "        return (\n",
    "            forza_how_to_obtain_dict[game][how_to_obtain].strip() \n",
    "            if how_to_obtain not in fh2_how_to_obtain_skip_list\n",
    "                and how_to_obtain in forza_how_to_obtain_dict[game].keys() \n",
    "            else forza_default_how_to_obtain_dict[game].strip() \n",
    "        )\n",
    "    if game in [\"Forza Horizon 4\"]:\n",
    "        return forza_how_to_obtain_dict[game][how_to_obtain].strip()\n",
    "    if game in [\"Forza Horizon 5\"]:\n",
    "        return (\n",
    "            forza_how_to_obtain_dict[game][how_to_obtain.strip(\"dlc = \")].strip()\n",
    "            if how_to_obtain.startswith(\"dlc = \") \n",
    "            else forza_how_to_obtain_dict[game][how_to_obtain_2nd].strip() \n",
    "        )\n",
    "    if game in [\"Forza Street\"]:\n",
    "        return (\n",
    "            \"Unreleased\"\n",
    "            if how_to_obtain.title() == \"Unreleased\"\n",
    "            else \"Base Game\"\n",
    "        )"
   ]
  },
  {
   "cell_type": "code",
   "execution_count": null,
   "id": "6c6fc6cf-9c0f-411d-b5e8-a28e0130cbf8",
   "metadata": {},
   "outputs": [],
   "source": [
    "def forza_value(value):\n",
    "    value_replace_dict = {\n",
    "        \",\": \"\"\n",
    "    }\n",
    "    for old, new in value_replace_dict.items():\n",
    "        value = value.replace(old, new)\n",
    "    value = value.strip()\n",
    "    return (\n",
    "        int(value)\n",
    "        if value != \"\" \n",
    "        else None\n",
    "    )"
   ]
  },
  {
   "cell_type": "code",
   "execution_count": null,
   "id": "a4156c48-6614-46a6-86fd-52f9c010e783",
   "metadata": {},
   "outputs": [],
   "source": [
    "def forza_pi_class(game, pi_class_string = None, pi_number = None):\n",
    "    if game in [\"Forza Motorsport 1\"]:\n",
    "        pi_class_string = pi_class_string.strip()\n",
    "        pi_class_string = pi_class_string.upper()\n",
    "        return (\n",
    "            forza_pi_class_from_string(game, pi_class_string) \n",
    "            if pi_class_string in fm1_racing_class_list\n",
    "            else pi_class_string\n",
    "        )\n",
    "    else:\n",
    "        pi_number = pi_number.strip()\n",
    "        if pi_class_string != None:\n",
    "            pi_class_string = pi_class_string.upper()\n",
    "        return (\n",
    "            forza_pi_class_from_number(game, int(pi_number)) \n",
    "            if pi_number != \"\"\n",
    "            else pi_class_string\n",
    "        )"
   ]
  },
  {
   "cell_type": "code",
   "execution_count": null,
   "id": "1809f4b0-b9d7-4889-9f44-c1a8bd71d413",
   "metadata": {},
   "outputs": [],
   "source": [
    "def forza_pi_number(pi_number):\n",
    "    pi_number = pi_number.strip()\n",
    "    return (\n",
    "        int(pi_number)\n",
    "        if pi_number != \"\" \n",
    "        else None\n",
    "    )"
   ]
  },
  {
   "cell_type": "code",
   "execution_count": null,
   "id": "b4f83618-1c43-470d-867e-24f8e6c46169",
   "metadata": {},
   "outputs": [],
   "source": [
    "def forza_type(game, type):\n",
    "    type = type.strip()\n",
    "    if game in [\"Forza Street\"]:\n",
    "        return type.title()\n",
    "    return ( \n",
    "        forza_type_dict[game][type].strip()\n",
    "        if type in forza_type_dict[game].keys() \n",
    "        else None\n",
    "    )"
   ]
  },
  {
   "cell_type": "code",
   "execution_count": null,
   "id": "32443b36-2646-41ac-b0f2-d7be4ae5668b",
   "metadata": {},
   "outputs": [],
   "source": [
    "def forza_era(game, era):\n",
    "    era = era.strip()\n",
    "    era = era.title()\n",
    "    return era"
   ]
  },
  {
   "cell_type": "code",
   "execution_count": null,
   "id": "6cb0e361-e2f6-4245-bba7-b5433d157511",
   "metadata": {},
   "outputs": [],
   "source": [
    "def forza_country(country, country_alt = False):\n",
    "    country = country.strip()\n",
    "    return(\n",
    "        forza_country_dict[country] \n",
    "        if \"=\" not in country \n",
    "        else forza_country_dict[country_alt]\n",
    "    )"
   ]
  },
  {
   "cell_type": "code",
   "execution_count": null,
   "id": "ad6ba28d-8f5e-46b6-9842-652fd0e34bf0",
   "metadata": {},
   "outputs": [],
   "source": [
    "def forza_rarity(game, rarity):\n",
    "    rarity = rarity.strip()\n",
    "    if game in [\"Forza Motorsport 7\"]:\n",
    "        return f\"Tier {rarity}: {forza_rarity_dict[' '.join([game, 'Tier', rarity])]}\"\n",
    "    if game in [\"Forza Horizon 4\", \"Forza Horizon 5\", \"Forza Street\"]:\n",
    "        rarity = rarity.lower()\n",
    "        return (\n",
    "            forza_rarity_dict[rarity] \n",
    "            if rarity != \"\" \n",
    "            else None\n",
    "        )"
   ]
  },
  {
   "cell_type": "code",
   "execution_count": null,
   "id": "00f61d1e-52fd-4ce7-b724-ca402e36cc07",
   "metadata": {},
   "outputs": [],
   "source": [
    "def forza_rating(rating):\n",
    "    rating = rating.strip()\n",
    "    return (\n",
    "        float(rating)\n",
    "        if rating != \"\"\n",
    "        else None\n",
    "    )"
   ]
  },
  {
   "cell_type": "code",
   "execution_count": null,
   "id": "40e60214-23be-4311-a75e-0f9a15f67752",
   "metadata": {},
   "outputs": [],
   "source": [
    "def forza_link(vehicle_name):\n",
    "    link_replace_dict = {\n",
    "        \" \": \"_\",\n",
    "        \"#\": \"\"\n",
    "    }\n",
    "    for old, new in link_replace_dict.items():\n",
    "        vehicle_name = vehicle_name.replace(old, new)\n",
    "    vehicle_name = vehicle_name.strip()\n",
    "    link = f\"{base_wiki_url}/{vehicle_name}\"\n",
    "    return link"
   ]
  }
 ],
 "metadata": {
  "kernelspec": {
   "display_name": "Python 3 (ipykernel)",
   "language": "python",
   "name": "python3"
  },
  "language_info": {
   "codemirror_mode": {
    "name": "ipython",
    "version": 3
   },
   "file_extension": ".py",
   "mimetype": "text/x-python",
   "name": "python",
   "nbconvert_exporter": "python",
   "pygments_lexer": "ipython3",
   "version": "3.12.0"
  }
 },
 "nbformat": 4,
 "nbformat_minor": 5
}
