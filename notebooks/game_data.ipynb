{
 "cells": [
  {
   "cell_type": "markdown",
   "id": "19368016-3d6c-4180-a3f3-ea15e4bbe6a6",
   "metadata": {},
   "source": [
    "# Game Data"
   ]
  },
  {
   "cell_type": "code",
   "execution_count": 3,
   "id": "abb10d94-b133-4f69-a412-6d09fa9ab6c0",
   "metadata": {},
   "outputs": [],
   "source": [
    "game_wiki_dict = {\n",
    "    \"Forza\": \"https://forza.fandom.com\"\n",
    "}\n",
    "# Format {game_series: game: url_section}\n",
    "game_dict = {\n",
    "    \"Forza\": {\n",
    "        \"Forza Motorsport 1\":      \"Forza_Motorsport_(2005)/Cars\",\n",
    "        \"Forza Motorsport 2\":      \"Forza_Motorsport_2/Cars\",\n",
    "        \"Forza Motorsport 3\":      \"Forza_Motorsport_3/Cars\",\n",
    "        \"Forza Motorsport 4\":      \"Forza_Motorsport_4/Cars\",\n",
    "        \"Forza Motorsport 5\":      \"Forza_Motorsport_5/Cars\",\n",
    "        \"Forza Motorsport 6\":      \"Forza_Motorsport_6/Cars\",\n",
    "        \"Forza Motorsport 7\":      \"Forza_Motorsport_7/Cars\",\n",
    "        \"Forza Horizon 1\":         \"Forza_Horizon/Cars\",\n",
    "        \"Forza Horizon 2\":         \"Forza_Horizon_2/Cars\",\n",
    "        \"Forza Horizon 3\":         \"Forza_Horizon_3/Cars\",\n",
    "        \"Forza Horizon 4\":         \"Forza_Horizon_4/Cars\",\n",
    "        \"Forza Horizon 5\":         \"Forza_Horizon_5/Cars\",\n",
    "        \"Forza Street\":            \"Forza_Street/Cars\",\n",
    "    }\n",
    "}"
   ]
  },
  {
   "cell_type": "markdown",
   "id": "3f190623-b28b-4496-b7d1-377b4a3790e5",
   "metadata": {},
   "source": [
    "# ID Variables"
   ]
  },
  {
   "cell_type": "code",
   "execution_count": null,
   "id": "40716c85-ba9c-43e8-8426-f4e47f083fad",
   "metadata": {},
   "outputs": [],
   "source": [
    "game_series_id = 1\n",
    "game_id = 1\n",
    "game_vehicle_id = 1"
   ]
  },
  {
   "cell_type": "markdown",
   "id": "f16a1227-dff8-4d08-8378-b5f5610e9a72",
   "metadata": {},
   "source": [
    "# CSV Names"
   ]
  },
  {
   "cell_type": "code",
   "execution_count": 4,
   "id": "cbcdd55a-4172-47a3-93a0-1fd45282c5a8",
   "metadata": {},
   "outputs": [],
   "source": [
    "game_series_csv_name = \"game_series.csv\"\n",
    "games_csv_name_dict = {}\n",
    "vehicle_csv_name_dict = {}\n",
    "for game_series in game_dict:\n",
    "    formatted_name = game_series.lower().replace(\" \", \"_\")\n",
    "    games_csv_name_dict[game_series] = f\"{formatted_name}_games.csv\"\n",
    "    vehicle_csv_name_dict[game_series] = f\"{formatted_name}_vehicles.csv\""
   ]
  }
 ],
 "metadata": {
  "kernelspec": {
   "display_name": "Python 3 (ipykernel)",
   "language": "python",
   "name": "python3"
  },
  "language_info": {
   "codemirror_mode": {
    "name": "ipython",
    "version": 3
   },
   "file_extension": ".py",
   "mimetype": "text/x-python",
   "name": "python",
   "nbconvert_exporter": "python",
   "pygments_lexer": "ipython3",
   "version": "3.12.0"
  }
 },
 "nbformat": 4,
 "nbformat_minor": 5
}
