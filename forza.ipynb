{
 "cells": [
  {
   "cell_type": "markdown",
   "id": "41e8cf44-38e7-405f-b217-138e6c65804f",
   "metadata": {},
   "source": [
    "# Imports"
   ]
  },
  {
   "cell_type": "code",
   "execution_count": 774,
   "id": "3976430d-0fa8-458c-a645-669d92d74cd8",
   "metadata": {},
   "outputs": [],
   "source": [
    "import re\n",
    "import os\n",
    "import difflib\n",
    "import itertools\n",
    "import collections\n",
    "import datetime"
   ]
  },
  {
   "cell_type": "code",
   "execution_count": 775,
   "id": "d1c81875-ebcb-4003-87a6-04ce33a26bff",
   "metadata": {},
   "outputs": [],
   "source": [
    "import pandas as pd\n",
    "import plotly.graph_objects as go\n",
    "import plotly.express as px\n",
    "import pycountry"
   ]
  },
  {
   "cell_type": "code",
   "execution_count": 776,
   "id": "781f9109-88db-4ede-812d-81e5f079e72e",
   "metadata": {
    "scrolled": true
   },
   "outputs": [
    {
     "name": "stderr",
     "output_type": "stream",
     "text": [
      "<>:18: SyntaxWarning:\n",
      "\n",
      "invalid escape sequence '\\['\n",
      "\n",
      "<>:18: SyntaxWarning:\n",
      "\n",
      "invalid escape sequence '\\]'\n",
      "\n",
      "C:\\Users\\nigel\\AppData\\Local\\Temp\\ipykernel_25436\\3000200675.py:18: SyntaxWarning:\n",
      "\n",
      "invalid escape sequence '\\['\n",
      "\n",
      "C:\\Users\\nigel\\AppData\\Local\\Temp\\ipykernel_25436\\3000200675.py:18: SyntaxWarning:\n",
      "\n",
      "invalid escape sequence '\\]'\n",
      "\n",
      "<>:4: SyntaxWarning:\n",
      "\n",
      "invalid escape sequence '\\*'\n",
      "\n",
      "<>:4: SyntaxWarning:\n",
      "\n",
      "invalid escape sequence '\\['\n",
      "\n",
      "<>:4: SyntaxWarning:\n",
      "\n",
      "invalid escape sequence '\\]'\n",
      "\n",
      "C:\\Users\\nigel\\AppData\\Local\\Temp\\ipykernel_25436\\3851270001.py:4: SyntaxWarning:\n",
      "\n",
      "invalid escape sequence '\\*'\n",
      "\n",
      "C:\\Users\\nigel\\AppData\\Local\\Temp\\ipykernel_25436\\3851270001.py:4: SyntaxWarning:\n",
      "\n",
      "invalid escape sequence '\\['\n",
      "\n",
      "C:\\Users\\nigel\\AppData\\Local\\Temp\\ipykernel_25436\\3851270001.py:4: SyntaxWarning:\n",
      "\n",
      "invalid escape sequence '\\]'\n",
      "\n"
     ]
    }
   ],
   "source": [
    "%run data_processing/forza/data_cleaning.ipynb\n",
    "%run data_processing/forza/data_extraction.ipynb\n",
    "%run data_processing/forza/vehicle_data_list_record_functions.ipynb"
   ]
  },
  {
   "cell_type": "markdown",
   "id": "5fbb6b2e-4051-4585-a48a-452af0123691",
   "metadata": {},
   "source": [
    "# Game List Variables"
   ]
  },
  {
   "cell_type": "markdown",
   "id": "906ccd70-088f-4245-8cc0-efea1f55264d",
   "metadata": {},
   "source": [
    "## Games Dictionary"
   ]
  },
  {
   "cell_type": "code",
   "execution_count": 777,
   "id": "945f11a6-5ad4-401c-b01d-48e93429f124",
   "metadata": {},
   "outputs": [],
   "source": [
    "# Format {game_title: url_section}\n",
    "games_dict = {\n",
    "    \"Forza Motorsport 1\":      \"Forza_Motorsport_(2005)/Cars\",\n",
    "    \"Forza Motorsport 2\":      \"Forza_Motorsport_2/Cars\",\n",
    "    \"Forza Motorsport 3\":      \"Forza_Motorsport_3/Cars\",\n",
    "    \"Forza Motorsport 4\":      \"Forza_Motorsport_4/Cars\",\n",
    "    \"Forza Motorsport 5\":      \"Forza_Motorsport_5/Cars\",\n",
    "    \"Forza Motorsport 6\":      \"Forza_Motorsport_6/Cars\",\n",
    "    \"Forza Motorsport 7\":      \"Forza_Motorsport_7/Cars\",\n",
    "    \"Forza Horizon 1\":         \"Forza_Horizon/Cars\",\n",
    "    \"Forza Horizon 2\":         \"Forza_Horizon_2/Cars\",\n",
    "    \"Forza Horizon 3\":         \"Forza_Horizon_3/Cars\",\n",
    "    \"Forza Horizon 4\":         \"Forza_Horizon_4/Cars\",\n",
    "    \"Forza Horizon 5\":         \"Forza_Horizon_5/Cars\",\n",
    "    \"Forza Street\":            \"Forza_Street/Cars\",\n",
    "}"
   ]
  },
  {
   "cell_type": "markdown",
   "id": "a3d1d857-67d7-472c-8806-b1461dfde926",
   "metadata": {},
   "source": [
    "## Enable Print List"
   ]
  },
  {
   "cell_type": "code",
   "execution_count": 778,
   "id": "480c5522-a02e-4046-97d7-37c3f0fd7ff7",
   "metadata": {},
   "outputs": [],
   "source": [
    "# Uncomment one or more game titles to print out the processed data for each uncommented game.\n",
    "enable_print_list = [\n",
    "    #\"Forza Motorsport 1\",\n",
    "    #\"Forza Motorsport 2\",\n",
    "    #\"Forza Motorsport 3\",\n",
    "    #\"Forza Motorsport 4\",\n",
    "    #\"Forza Motorsport 5\",\n",
    "    #\"Forza Motorsport 6\",\n",
    "    #\"Forza Motorsport 7\",\n",
    "    #\"Forza Horizon 1\",\n",
    "    #\"Forza Horizon 2\",\n",
    "    #\"Forza Horizon 3\",\n",
    "    #\"Forza Horizon 4\",\n",
    "    #\"Forza Horizon 5\",\n",
    "    #\"Forza Street\",\n",
    "]"
   ]
  },
  {
   "cell_type": "markdown",
   "id": "9955190a-10f7-4cfb-b3ab-79e7d92be0a5",
   "metadata": {},
   "source": [
    "# Settings"
   ]
  },
  {
   "cell_type": "markdown",
   "id": "ed1ca0f2-6698-403e-8ab4-b57b853af75a",
   "metadata": {},
   "source": [
    "## URLS"
   ]
  },
  {
   "cell_type": "code",
   "execution_count": 779,
   "id": "b3fe482c-7dd4-4acb-b4e1-eae199b070f6",
   "metadata": {},
   "outputs": [],
   "source": [
    "base_url = \"https://forza.fandom.com\"\n",
    "api_url = f\"{base_url}/api.php\"\n",
    "base_wiki_url = f\"{base_url}/wiki\""
   ]
  },
  {
   "cell_type": "markdown",
   "id": "4d26d4a9-c8af-44f5-b24b-2680766774ef",
   "metadata": {},
   "source": [
    "## Test Scripts Folder"
   ]
  },
  {
   "cell_type": "code",
   "execution_count": 780,
   "id": "dfa7f6e8-878c-4bf8-89e7-9e9d429ac539",
   "metadata": {},
   "outputs": [],
   "source": [
    "test_scripts_folder = \"test_scripts/forza\""
   ]
  },
  {
   "cell_type": "markdown",
   "id": "ecc22893-a228-419b-b5e5-8b3ffb3a94fe",
   "metadata": {},
   "source": [
    "## Data Source Mode"
   ]
  },
  {
   "cell_type": "code",
   "execution_count": 781,
   "id": "494c7fdf-a6a8-4177-a377-a214a0257d5b",
   "metadata": {},
   "outputs": [],
   "source": [
    "\"\"\"\n",
    "Data Source Modes:\n",
    "    DEV: use the test scripts\n",
    "    PROD: use the MediaWiki API\n",
    "\"\"\"\n",
    "data_source_mode = \"DEV\""
   ]
  },
  {
   "cell_type": "markdown",
   "id": "cc61eacd-eb6c-4473-89f4-272c173534cb",
   "metadata": {},
   "source": [
    "## Save to Output File"
   ]
  },
  {
   "cell_type": "code",
   "execution_count": 782,
   "id": "446704c7-3422-4d0b-a651-b2b48a8bcc4c",
   "metadata": {},
   "outputs": [],
   "source": [
    "save_to_output_file = True\n",
    "output_file_name = \"forza.csv\""
   ]
  },
  {
   "cell_type": "markdown",
   "id": "9bc3ecb0-74c3-4fc9-ae19-0a782719c2fb",
   "metadata": {},
   "source": [
    "## Update Output File"
   ]
  },
  {
   "cell_type": "code",
   "execution_count": 783,
   "id": "b94bb67e-4dbd-4a92-9e4e-ed1ce57afb44",
   "metadata": {},
   "outputs": [],
   "source": [
    "update_output_file = True"
   ]
  },
  {
   "cell_type": "markdown",
   "id": "f5519119-fb23-4308-84fa-6298956f2eb7",
   "metadata": {},
   "source": [
    "## Save Markup"
   ]
  },
  {
   "cell_type": "code",
   "execution_count": 784,
   "id": "b13d63c4-1b4e-4ade-8f60-34e86ea7ebc3",
   "metadata": {},
   "outputs": [],
   "source": [
    "save_markup = False\n",
    "save_markup_folder = f\"Markup Archive {datetime.datetime.now().strftime('%Y-%m-%d %H-%M-%S-%f')}\""
   ]
  },
  {
   "cell_type": "markdown",
   "id": "002d883a-14a8-4195-9878-4aeeabe8809d",
   "metadata": {},
   "source": [
    "# Data Collecting and Processing"
   ]
  },
  {
   "cell_type": "code",
   "execution_count": 785,
   "id": "82aadd49-8fdb-4cfd-b8b4-d3e45d997a50",
   "metadata": {
    "scrolled": true
   },
   "outputs": [],
   "source": [
    "if data_source_mode == \"DEV\":\n",
    "    for game in games_dict.keys():\n",
    "        if game in enable_print_list:\n",
    "            print(game)\n",
    "        data = \"\"\n",
    "        with open(\n",
    "            f\"{test_scripts_folder.strip('/')}/{game}.txt\", \n",
    "            mode=\"r\", \n",
    "            encoding=\"utf-8\"\n",
    "        ) as file:\n",
    "            for line in file:\n",
    "                data += line.strip(\"\")\n",
    "        data = data.split(\"\\n\")\n",
    "        forza_data_extraction(game, data)\n",
    "elif data_source_mode == \"PROD\":\n",
    "    \"\"\"\n",
    "    Based on:\n",
    "        * https://www.jcchouinard.com/wikipedia-api/\n",
    "        * https://community.fandom.com/f/p/3814380756008962153\n",
    "    \"\"\"\n",
    "    if save_markup == True:\n",
    "        if os.path.exists(save_markup_folder) == False:\n",
    "            os.mkdir(save_markup_folder)\n",
    "    for game in games_dict.keys():\n",
    "        if game in enable_print_list:\n",
    "            print(game)\n",
    "        params = {\n",
    "            \"action\": \"query\",\n",
    "            \"format\": \"json\",\n",
    "            \"titles\": games_dict[game],\n",
    "            \"prop\": \"revisions\",\n",
    "            \"rvprop\": \"content\"\n",
    "        }\n",
    "        response_json = requests.get(\n",
    "            api_url, \n",
    "            params = params\n",
    "        ).json()\n",
    "        data = next(\n",
    "            iter(\n",
    "                response_json[\"query\"][\"pages\"].values()\n",
    "            )\n",
    "        )[\"revisions\"][0][\"*\"]\n",
    "        if save_markup == True:\n",
    "            with open(\n",
    "                f\"{save_markup_folder.strip('/')}/{game}.txt\", \n",
    "                mode=\"w\", \n",
    "                encoding=\"utf-8\"\n",
    "            ) as file:\n",
    "                file.write(data)\n",
    "        data = data.split(\"\\n\")\n",
    "        forza_data_extraction(game, data)\n",
    "else:\n",
    "    print(\"Please select a mode\")"
   ]
  },
  {
   "cell_type": "code",
   "execution_count": 786,
   "id": "be098eb2-1d1c-41be-832b-2b1c1eb1fb1a",
   "metadata": {
    "scrolled": true
   },
   "outputs": [
    {
     "data": {
      "text/html": [
       "<div>\n",
       "<style scoped>\n",
       "    .dataframe tbody tr th:only-of-type {\n",
       "        vertical-align: middle;\n",
       "    }\n",
       "\n",
       "    .dataframe tbody tr th {\n",
       "        vertical-align: top;\n",
       "    }\n",
       "\n",
       "    .dataframe thead th {\n",
       "        text-align: right;\n",
       "    }\n",
       "</style>\n",
       "<table border=\"1\" class=\"dataframe\">\n",
       "  <thead>\n",
       "    <tr style=\"text-align: right;\">\n",
       "      <th></th>\n",
       "      <th>Game</th>\n",
       "      <th>Manufacturer</th>\n",
       "      <th>Vehicle Name</th>\n",
       "      <th>Vehicle Name Alternative</th>\n",
       "      <th>Year</th>\n",
       "      <th>How to Obtain</th>\n",
       "      <th>Value</th>\n",
       "      <th>Performance Index Class</th>\n",
       "      <th>Performance Index Number</th>\n",
       "      <th>Type</th>\n",
       "      <th>...</th>\n",
       "      <th>Country</th>\n",
       "      <th>Rarity</th>\n",
       "      <th>Rarity Rating</th>\n",
       "      <th>Speed Rating</th>\n",
       "      <th>Acceleration Rating</th>\n",
       "      <th>Braking Rating</th>\n",
       "      <th>Handling Rating</th>\n",
       "      <th>Launch Rating</th>\n",
       "      <th>Offroad Rating</th>\n",
       "      <th>Link</th>\n",
       "    </tr>\n",
       "  </thead>\n",
       "  <tbody>\n",
       "    <tr>\n",
       "      <th>0</th>\n",
       "      <td>Forza Motorsport 1</td>\n",
       "      <td>AC</td>\n",
       "      <td>AC Shelby Cobra 427 SC</td>\n",
       "      <td>&lt;NA&gt;</td>\n",
       "      <td>1967</td>\n",
       "      <td>Base Game</td>\n",
       "      <td>127000</td>\n",
       "      <td>A1</td>\n",
       "      <td>&lt;NA&gt;</td>\n",
       "      <td>&lt;NA&gt;</td>\n",
       "      <td>...</td>\n",
       "      <td>&lt;NA&gt;</td>\n",
       "      <td>&lt;NA&gt;</td>\n",
       "      <td>7.3</td>\n",
       "      <td>6.5</td>\n",
       "      <td>7.1</td>\n",
       "      <td>4.6</td>\n",
       "      <td>4.6</td>\n",
       "      <td>&lt;NA&gt;</td>\n",
       "      <td>&lt;NA&gt;</td>\n",
       "      <td>https://forza.fandom.com/wiki/AC_Shelby_Cobra_...</td>\n",
       "    </tr>\n",
       "    <tr>\n",
       "      <th>1</th>\n",
       "      <td>Forza Motorsport 1</td>\n",
       "      <td>Acura</td>\n",
       "      <td>Acura #42 Realtime Racing NSX</td>\n",
       "      <td>Acura 42 Realtime Racing NSX</td>\n",
       "      <td>2002</td>\n",
       "      <td>Base Game</td>\n",
       "      <td>268000</td>\n",
       "      <td>R-GT</td>\n",
       "      <td>&lt;NA&gt;</td>\n",
       "      <td>&lt;NA&gt;</td>\n",
       "      <td>...</td>\n",
       "      <td>&lt;NA&gt;</td>\n",
       "      <td>&lt;NA&gt;</td>\n",
       "      <td>9.8</td>\n",
       "      <td>6.3</td>\n",
       "      <td>7.4</td>\n",
       "      <td>6.3</td>\n",
       "      <td>6.1</td>\n",
       "      <td>&lt;NA&gt;</td>\n",
       "      <td>&lt;NA&gt;</td>\n",
       "      <td>https://forza.fandom.com/wiki/Acura_42_Realtim...</td>\n",
       "    </tr>\n",
       "    <tr>\n",
       "      <th>2</th>\n",
       "      <td>Forza Motorsport 1</td>\n",
       "      <td>Acura</td>\n",
       "      <td>Acura 3.2 CL Type-S</td>\n",
       "      <td>&lt;NA&gt;</td>\n",
       "      <td>2003</td>\n",
       "      <td>Base Game</td>\n",
       "      <td>24000</td>\n",
       "      <td>D2</td>\n",
       "      <td>&lt;NA&gt;</td>\n",
       "      <td>&lt;NA&gt;</td>\n",
       "      <td>...</td>\n",
       "      <td>&lt;NA&gt;</td>\n",
       "      <td>&lt;NA&gt;</td>\n",
       "      <td>4.8</td>\n",
       "      <td>5.4</td>\n",
       "      <td>4.5</td>\n",
       "      <td>4.2</td>\n",
       "      <td>4.3</td>\n",
       "      <td>&lt;NA&gt;</td>\n",
       "      <td>&lt;NA&gt;</td>\n",
       "      <td>https://forza.fandom.com/wiki/Acura_3.2_CL_Type-S</td>\n",
       "    </tr>\n",
       "    <tr>\n",
       "      <th>3</th>\n",
       "      <td>Forza Motorsport 1</td>\n",
       "      <td>Acura</td>\n",
       "      <td>Acura Integra Type-R</td>\n",
       "      <td>&lt;NA&gt;</td>\n",
       "      <td>2001</td>\n",
       "      <td>Base Game</td>\n",
       "      <td>24000</td>\n",
       "      <td>D1</td>\n",
       "      <td>&lt;NA&gt;</td>\n",
       "      <td>&lt;NA&gt;</td>\n",
       "      <td>...</td>\n",
       "      <td>&lt;NA&gt;</td>\n",
       "      <td>&lt;NA&gt;</td>\n",
       "      <td>4.7</td>\n",
       "      <td>5.5</td>\n",
       "      <td>4.5</td>\n",
       "      <td>4.2</td>\n",
       "      <td>4.4</td>\n",
       "      <td>&lt;NA&gt;</td>\n",
       "      <td>&lt;NA&gt;</td>\n",
       "      <td>https://forza.fandom.com/wiki/Acura_Integra_Ty...</td>\n",
       "    </tr>\n",
       "    <tr>\n",
       "      <th>4</th>\n",
       "      <td>Forza Motorsport 1</td>\n",
       "      <td>Acura</td>\n",
       "      <td>Acura VIS Racing Integra Type-R</td>\n",
       "      <td>&lt;NA&gt;</td>\n",
       "      <td>2000</td>\n",
       "      <td>Base Game</td>\n",
       "      <td>88000</td>\n",
       "      <td>B4</td>\n",
       "      <td>&lt;NA&gt;</td>\n",
       "      <td>&lt;NA&gt;</td>\n",
       "      <td>...</td>\n",
       "      <td>&lt;NA&gt;</td>\n",
       "      <td>&lt;NA&gt;</td>\n",
       "      <td>7.3</td>\n",
       "      <td>5.4</td>\n",
       "      <td>5.2</td>\n",
       "      <td>4.7</td>\n",
       "      <td>4.8</td>\n",
       "      <td>&lt;NA&gt;</td>\n",
       "      <td>&lt;NA&gt;</td>\n",
       "      <td>https://forza.fandom.com/wiki/Acura_VIS_Racing...</td>\n",
       "    </tr>\n",
       "    <tr>\n",
       "      <th>...</th>\n",
       "      <td>...</td>\n",
       "      <td>...</td>\n",
       "      <td>...</td>\n",
       "      <td>...</td>\n",
       "      <td>...</td>\n",
       "      <td>...</td>\n",
       "      <td>...</td>\n",
       "      <td>...</td>\n",
       "      <td>...</td>\n",
       "      <td>...</td>\n",
       "      <td>...</td>\n",
       "      <td>...</td>\n",
       "      <td>...</td>\n",
       "      <td>...</td>\n",
       "      <td>...</td>\n",
       "      <td>...</td>\n",
       "      <td>...</td>\n",
       "      <td>...</td>\n",
       "      <td>...</td>\n",
       "      <td>...</td>\n",
       "      <td>...</td>\n",
       "    </tr>\n",
       "    <tr>\n",
       "      <th>6244</th>\n",
       "      <td>Forza Street</td>\n",
       "      <td>Porsche</td>\n",
       "      <td>Porsche 914/6</td>\n",
       "      <td>&lt;NA&gt;</td>\n",
       "      <td>1970</td>\n",
       "      <td>Base Game</td>\n",
       "      <td>&lt;NA&gt;</td>\n",
       "      <td>&lt;NA&gt;</td>\n",
       "      <td>&lt;NA&gt;</td>\n",
       "      <td>Classic</td>\n",
       "      <td>...</td>\n",
       "      <td>&lt;NA&gt;</td>\n",
       "      <td>Common</td>\n",
       "      <td>&lt;NA&gt;</td>\n",
       "      <td>&lt;NA&gt;</td>\n",
       "      <td>&lt;NA&gt;</td>\n",
       "      <td>&lt;NA&gt;</td>\n",
       "      <td>&lt;NA&gt;</td>\n",
       "      <td>&lt;NA&gt;</td>\n",
       "      <td>&lt;NA&gt;</td>\n",
       "      <td>https://forza.fandom.com/wiki/Porsche_914/6</td>\n",
       "    </tr>\n",
       "    <tr>\n",
       "      <th>6245</th>\n",
       "      <td>Forza Street</td>\n",
       "      <td>Porsche</td>\n",
       "      <td>Porsche 918 Spyder</td>\n",
       "      <td>&lt;NA&gt;</td>\n",
       "      <td>2014</td>\n",
       "      <td>Base Game</td>\n",
       "      <td>&lt;NA&gt;</td>\n",
       "      <td>&lt;NA&gt;</td>\n",
       "      <td>&lt;NA&gt;</td>\n",
       "      <td>Modern</td>\n",
       "      <td>...</td>\n",
       "      <td>&lt;NA&gt;</td>\n",
       "      <td>Epic</td>\n",
       "      <td>&lt;NA&gt;</td>\n",
       "      <td>&lt;NA&gt;</td>\n",
       "      <td>&lt;NA&gt;</td>\n",
       "      <td>&lt;NA&gt;</td>\n",
       "      <td>&lt;NA&gt;</td>\n",
       "      <td>&lt;NA&gt;</td>\n",
       "      <td>&lt;NA&gt;</td>\n",
       "      <td>https://forza.fandom.com/wiki/Porsche_918_Spyder</td>\n",
       "    </tr>\n",
       "    <tr>\n",
       "      <th>6246</th>\n",
       "      <td>Forza Street</td>\n",
       "      <td>Porsche</td>\n",
       "      <td>Porsche 944 Turbo</td>\n",
       "      <td>&lt;NA&gt;</td>\n",
       "      <td>1989</td>\n",
       "      <td>Base Game</td>\n",
       "      <td>&lt;NA&gt;</td>\n",
       "      <td>&lt;NA&gt;</td>\n",
       "      <td>&lt;NA&gt;</td>\n",
       "      <td>Retro</td>\n",
       "      <td>...</td>\n",
       "      <td>&lt;NA&gt;</td>\n",
       "      <td>Common</td>\n",
       "      <td>&lt;NA&gt;</td>\n",
       "      <td>&lt;NA&gt;</td>\n",
       "      <td>&lt;NA&gt;</td>\n",
       "      <td>&lt;NA&gt;</td>\n",
       "      <td>&lt;NA&gt;</td>\n",
       "      <td>&lt;NA&gt;</td>\n",
       "      <td>&lt;NA&gt;</td>\n",
       "      <td>https://forza.fandom.com/wiki/Porsche_944_Turbo</td>\n",
       "    </tr>\n",
       "    <tr>\n",
       "      <th>6247</th>\n",
       "      <td>Forza Street</td>\n",
       "      <td>Porsche</td>\n",
       "      <td>Porsche Carrera GT</td>\n",
       "      <td>&lt;NA&gt;</td>\n",
       "      <td>2003</td>\n",
       "      <td>Base Game</td>\n",
       "      <td>&lt;NA&gt;</td>\n",
       "      <td>&lt;NA&gt;</td>\n",
       "      <td>&lt;NA&gt;</td>\n",
       "      <td>Modern</td>\n",
       "      <td>...</td>\n",
       "      <td>&lt;NA&gt;</td>\n",
       "      <td>Rare</td>\n",
       "      <td>&lt;NA&gt;</td>\n",
       "      <td>&lt;NA&gt;</td>\n",
       "      <td>&lt;NA&gt;</td>\n",
       "      <td>&lt;NA&gt;</td>\n",
       "      <td>&lt;NA&gt;</td>\n",
       "      <td>&lt;NA&gt;</td>\n",
       "      <td>&lt;NA&gt;</td>\n",
       "      <td>https://forza.fandom.com/wiki/Porsche_Carrera_GT</td>\n",
       "    </tr>\n",
       "    <tr>\n",
       "      <th>6248</th>\n",
       "      <td>Forza Street</td>\n",
       "      <td>Porsche</td>\n",
       "      <td>Porsche Cayman GTS</td>\n",
       "      <td>&lt;NA&gt;</td>\n",
       "      <td>2015</td>\n",
       "      <td>Base Game</td>\n",
       "      <td>&lt;NA&gt;</td>\n",
       "      <td>&lt;NA&gt;</td>\n",
       "      <td>&lt;NA&gt;</td>\n",
       "      <td>Modern</td>\n",
       "      <td>...</td>\n",
       "      <td>&lt;NA&gt;</td>\n",
       "      <td>Common</td>\n",
       "      <td>&lt;NA&gt;</td>\n",
       "      <td>&lt;NA&gt;</td>\n",
       "      <td>&lt;NA&gt;</td>\n",
       "      <td>&lt;NA&gt;</td>\n",
       "      <td>&lt;NA&gt;</td>\n",
       "      <td>&lt;NA&gt;</td>\n",
       "      <td>&lt;NA&gt;</td>\n",
       "      <td>https://forza.fandom.com/wiki/Porsche_Cayman_GTS</td>\n",
       "    </tr>\n",
       "  </tbody>\n",
       "</table>\n",
       "<p>6249 rows × 21 columns</p>\n",
       "</div>"
      ],
      "text/plain": [
       "                    Game Manufacturer                     Vehicle Name  \\\n",
       "0     Forza Motorsport 1           AC           AC Shelby Cobra 427 SC   \n",
       "1     Forza Motorsport 1        Acura    Acura #42 Realtime Racing NSX   \n",
       "2     Forza Motorsport 1        Acura              Acura 3.2 CL Type-S   \n",
       "3     Forza Motorsport 1        Acura             Acura Integra Type-R   \n",
       "4     Forza Motorsport 1        Acura  Acura VIS Racing Integra Type-R   \n",
       "...                  ...          ...                              ...   \n",
       "6244        Forza Street      Porsche                    Porsche 914/6   \n",
       "6245        Forza Street      Porsche               Porsche 918 Spyder   \n",
       "6246        Forza Street      Porsche                Porsche 944 Turbo   \n",
       "6247        Forza Street      Porsche               Porsche Carrera GT   \n",
       "6248        Forza Street      Porsche               Porsche Cayman GTS   \n",
       "\n",
       "          Vehicle Name Alternative  Year How to Obtain   Value  \\\n",
       "0                             <NA>  1967     Base Game  127000   \n",
       "1     Acura 42 Realtime Racing NSX  2002     Base Game  268000   \n",
       "2                             <NA>  2003     Base Game   24000   \n",
       "3                             <NA>  2001     Base Game   24000   \n",
       "4                             <NA>  2000     Base Game   88000   \n",
       "...                            ...   ...           ...     ...   \n",
       "6244                          <NA>  1970     Base Game    <NA>   \n",
       "6245                          <NA>  2014     Base Game    <NA>   \n",
       "6246                          <NA>  1989     Base Game    <NA>   \n",
       "6247                          <NA>  2003     Base Game    <NA>   \n",
       "6248                          <NA>  2015     Base Game    <NA>   \n",
       "\n",
       "     Performance Index Class  Performance Index Number     Type  ... Country  \\\n",
       "0                         A1                      <NA>     <NA>  ...    <NA>   \n",
       "1                       R-GT                      <NA>     <NA>  ...    <NA>   \n",
       "2                         D2                      <NA>     <NA>  ...    <NA>   \n",
       "3                         D1                      <NA>     <NA>  ...    <NA>   \n",
       "4                         B4                      <NA>     <NA>  ...    <NA>   \n",
       "...                      ...                       ...      ...  ...     ...   \n",
       "6244                    <NA>                      <NA>  Classic  ...    <NA>   \n",
       "6245                    <NA>                      <NA>   Modern  ...    <NA>   \n",
       "6246                    <NA>                      <NA>    Retro  ...    <NA>   \n",
       "6247                    <NA>                      <NA>   Modern  ...    <NA>   \n",
       "6248                    <NA>                      <NA>   Modern  ...    <NA>   \n",
       "\n",
       "      Rarity Rarity Rating  Speed Rating  Acceleration Rating  Braking Rating  \\\n",
       "0       <NA>           7.3           6.5                  7.1             4.6   \n",
       "1       <NA>           9.8           6.3                  7.4             6.3   \n",
       "2       <NA>           4.8           5.4                  4.5             4.2   \n",
       "3       <NA>           4.7           5.5                  4.5             4.2   \n",
       "4       <NA>           7.3           5.4                  5.2             4.7   \n",
       "...      ...           ...           ...                  ...             ...   \n",
       "6244  Common          <NA>          <NA>                 <NA>            <NA>   \n",
       "6245    Epic          <NA>          <NA>                 <NA>            <NA>   \n",
       "6246  Common          <NA>          <NA>                 <NA>            <NA>   \n",
       "6247    Rare          <NA>          <NA>                 <NA>            <NA>   \n",
       "6248  Common          <NA>          <NA>                 <NA>            <NA>   \n",
       "\n",
       "      Handling Rating  Launch Rating  Offroad Rating  \\\n",
       "0                 4.6           <NA>            <NA>   \n",
       "1                 6.1           <NA>            <NA>   \n",
       "2                 4.3           <NA>            <NA>   \n",
       "3                 4.4           <NA>            <NA>   \n",
       "4                 4.8           <NA>            <NA>   \n",
       "...               ...            ...             ...   \n",
       "6244             <NA>           <NA>            <NA>   \n",
       "6245             <NA>           <NA>            <NA>   \n",
       "6246             <NA>           <NA>            <NA>   \n",
       "6247             <NA>           <NA>            <NA>   \n",
       "6248             <NA>           <NA>            <NA>   \n",
       "\n",
       "                                                   Link  \n",
       "0     https://forza.fandom.com/wiki/AC_Shelby_Cobra_...  \n",
       "1     https://forza.fandom.com/wiki/Acura_42_Realtim...  \n",
       "2     https://forza.fandom.com/wiki/Acura_3.2_CL_Type-S  \n",
       "3     https://forza.fandom.com/wiki/Acura_Integra_Ty...  \n",
       "4     https://forza.fandom.com/wiki/Acura_VIS_Racing...  \n",
       "...                                                 ...  \n",
       "6244        https://forza.fandom.com/wiki/Porsche_914/6  \n",
       "6245   https://forza.fandom.com/wiki/Porsche_918_Spyder  \n",
       "6246    https://forza.fandom.com/wiki/Porsche_944_Turbo  \n",
       "6247   https://forza.fandom.com/wiki/Porsche_Carrera_GT  \n",
       "6248   https://forza.fandom.com/wiki/Porsche_Cayman_GTS  \n",
       "\n",
       "[6249 rows x 21 columns]"
      ]
     },
     "metadata": {},
     "output_type": "display_data"
    }
   ],
   "source": [
    "vehicle_df = pd.DataFrame(\n",
    "    vehicle_data_list,\n",
    "    columns = [\n",
    "        \"Game\",\n",
    "        \"Manufacturer\",\n",
    "        \"Vehicle Name\", \n",
    "        \"Vehicle Name Alternative\", \n",
    "        \"Year\", \n",
    "        \"How to Obtain\", \n",
    "        \"Value\", \n",
    "        \"Performance Index Class\", \n",
    "        \"Performance Index Number\",\n",
    "        \"Type\",\n",
    "        \"Era\",\n",
    "        \"Country\",\n",
    "        \"Rarity\",\n",
    "        \"Rarity Rating\",\n",
    "        \"Speed Rating\", \n",
    "        \"Acceleration Rating\", \n",
    "        \"Braking Rating\", \n",
    "        \"Handling Rating\", \n",
    "        \"Launch Rating\",\n",
    "        \"Offroad Rating\",\n",
    "        \"Link\"\n",
    "    ]\n",
    ").convert_dtypes()\n",
    "del vehicle_data_list\n",
    "display(vehicle_df)"
   ]
  },
  {
   "cell_type": "code",
   "execution_count": 787,
   "id": "df562b80-cb25-43bf-8e88-4cc689d87d6b",
   "metadata": {},
   "outputs": [
    {
     "name": "stdout",
     "output_type": "stream",
     "text": [
      "CSV file updated\n"
     ]
    }
   ],
   "source": [
    "if save_to_output_file == True:\n",
    "    if not os.path.exists(output_file_name):\n",
    "        vehicle_df.to_csv(\n",
    "            output_file_name, \n",
    "            index = False\n",
    "        )\n",
    "        print(\"CSV file created\")\n",
    "    elif update_output_file == True:\n",
    "        vehicle_df.to_csv(\n",
    "            output_file_name, \n",
    "            index = False\n",
    "        )\n",
    "        print(\"CSV file updated\")\n",
    "    else:\n",
    "        print(\"CSV file not updated\")"
   ]
  },
  {
   "cell_type": "markdown",
   "id": "b95212da-6fd5-46ff-82d1-e685f7e842fd",
   "metadata": {},
   "source": [
    "# Data Visualisation\n",
    "Note: Interactive Plotly diagrams cannot be displayed on Github. Clone the repository and run the project to view the diagrams."
   ]
  },
  {
   "cell_type": "markdown",
   "id": "4660e73b-522d-4dbc-aba1-4a52157e4696",
   "metadata": {},
   "source": [
    "## Forza Horizon Series Ferrari & Lamborghini (Sankey)"
   ]
  },
  {
   "cell_type": "code",
   "execution_count": 788,
   "id": "ddb6246b-b26b-4b77-bcda-3ae1cf96cb80",
   "metadata": {},
   "outputs": [],
   "source": [
    "games_list = [\n",
    "    game_title\n",
    "    for game_title in sorted(\n",
    "        set(vehicle_df[\"Game\"])\n",
    "    )\n",
    "    if \"Horizon\" in game_title\n",
    "]\n",
    "manufacturers_list = [\n",
    "    \"Ferrari\", \"Lamborghini\"\n",
    "]"
   ]
  },
  {
   "cell_type": "code",
   "execution_count": 789,
   "id": "0da0e0cd-9172-47c0-8be3-92eab301f191",
   "metadata": {},
   "outputs": [],
   "source": [
    "sank_label = list(\n",
    "    itertools.chain(\n",
    "        games_list,\n",
    "        manufacturers_list,\n",
    "    )\n",
    ")\n",
    "\n",
    "sank_source = []\n",
    "sank_target = []\n",
    "sank_value = []\n",
    "\n",
    "for game in games_list:\n",
    "    game_manufacturer_counter = collections.Counter(\n",
    "        sorted(\n",
    "            vehicle_df.loc[\n",
    "                vehicle_df[\"Game\"] == game,\n",
    "                \"Manufacturer\"\n",
    "            ]\n",
    "        )\n",
    "    )\n",
    "    for manufacturer in manufacturers_list:\n",
    "        value = 0\n",
    "        if manufacturer in game_manufacturer_counter.keys():\n",
    "            value = game_manufacturer_counter[manufacturer]\n",
    "        sank_source.append(sank_label.index(game))\n",
    "        sank_target.append(sank_label.index(manufacturer))\n",
    "        sank_value.append(value)"
   ]
  },
  {
   "cell_type": "code",
   "execution_count": 790,
   "id": "255161e9-439d-44f7-8209-a2d266e0d1df",
   "metadata": {},
   "outputs": [
    {
     "data": {
      "application/vnd.plotly.v1+json": {
       "config": {
        "plotlyServerURL": "https://plot.ly"
       },
       "data": [
        {
         "link": {
          "source": [
           0,
           0,
           1,
           1,
           2,
           2,
           3,
           3,
           4,
           4
          ],
          "target": [
           5,
           6,
           5,
           6,
           5,
           6,
           5,
           6,
           5,
           6
          ],
          "value": [
           22,
           11,
           21,
           11,
           34,
           18,
           40,
           23,
           41,
           28
          ]
         },
         "node": {
          "color": "blue",
          "label": [
           "Forza Horizon 1",
           "Forza Horizon 2",
           "Forza Horizon 3",
           "Forza Horizon 4",
           "Forza Horizon 5",
           "Ferrari",
           "Lamborghini"
          ]
         },
         "type": "sankey"
        }
       ],
       "layout": {
        "autosize": true,
        "font": {
         "size": 10
        },
        "template": {
         "data": {
          "bar": [
           {
            "error_x": {
             "color": "#2a3f5f"
            },
            "error_y": {
             "color": "#2a3f5f"
            },
            "marker": {
             "line": {
              "color": "#E5ECF6",
              "width": 0.5
             },
             "pattern": {
              "fillmode": "overlay",
              "size": 10,
              "solidity": 0.2
             }
            },
            "type": "bar"
           }
          ],
          "barpolar": [
           {
            "marker": {
             "line": {
              "color": "#E5ECF6",
              "width": 0.5
             },
             "pattern": {
              "fillmode": "overlay",
              "size": 10,
              "solidity": 0.2
             }
            },
            "type": "barpolar"
           }
          ],
          "carpet": [
           {
            "aaxis": {
             "endlinecolor": "#2a3f5f",
             "gridcolor": "white",
             "linecolor": "white",
             "minorgridcolor": "white",
             "startlinecolor": "#2a3f5f"
            },
            "baxis": {
             "endlinecolor": "#2a3f5f",
             "gridcolor": "white",
             "linecolor": "white",
             "minorgridcolor": "white",
             "startlinecolor": "#2a3f5f"
            },
            "type": "carpet"
           }
          ],
          "choropleth": [
           {
            "colorbar": {
             "outlinewidth": 0,
             "ticks": ""
            },
            "type": "choropleth"
           }
          ],
          "contour": [
           {
            "colorbar": {
             "outlinewidth": 0,
             "ticks": ""
            },
            "colorscale": [
             [
              0,
              "#0d0887"
             ],
             [
              0.1111111111111111,
              "#46039f"
             ],
             [
              0.2222222222222222,
              "#7201a8"
             ],
             [
              0.3333333333333333,
              "#9c179e"
             ],
             [
              0.4444444444444444,
              "#bd3786"
             ],
             [
              0.5555555555555556,
              "#d8576b"
             ],
             [
              0.6666666666666666,
              "#ed7953"
             ],
             [
              0.7777777777777778,
              "#fb9f3a"
             ],
             [
              0.8888888888888888,
              "#fdca26"
             ],
             [
              1,
              "#f0f921"
             ]
            ],
            "type": "contour"
           }
          ],
          "contourcarpet": [
           {
            "colorbar": {
             "outlinewidth": 0,
             "ticks": ""
            },
            "type": "contourcarpet"
           }
          ],
          "heatmap": [
           {
            "colorbar": {
             "outlinewidth": 0,
             "ticks": ""
            },
            "colorscale": [
             [
              0,
              "#0d0887"
             ],
             [
              0.1111111111111111,
              "#46039f"
             ],
             [
              0.2222222222222222,
              "#7201a8"
             ],
             [
              0.3333333333333333,
              "#9c179e"
             ],
             [
              0.4444444444444444,
              "#bd3786"
             ],
             [
              0.5555555555555556,
              "#d8576b"
             ],
             [
              0.6666666666666666,
              "#ed7953"
             ],
             [
              0.7777777777777778,
              "#fb9f3a"
             ],
             [
              0.8888888888888888,
              "#fdca26"
             ],
             [
              1,
              "#f0f921"
             ]
            ],
            "type": "heatmap"
           }
          ],
          "heatmapgl": [
           {
            "colorbar": {
             "outlinewidth": 0,
             "ticks": ""
            },
            "colorscale": [
             [
              0,
              "#0d0887"
             ],
             [
              0.1111111111111111,
              "#46039f"
             ],
             [
              0.2222222222222222,
              "#7201a8"
             ],
             [
              0.3333333333333333,
              "#9c179e"
             ],
             [
              0.4444444444444444,
              "#bd3786"
             ],
             [
              0.5555555555555556,
              "#d8576b"
             ],
             [
              0.6666666666666666,
              "#ed7953"
             ],
             [
              0.7777777777777778,
              "#fb9f3a"
             ],
             [
              0.8888888888888888,
              "#fdca26"
             ],
             [
              1,
              "#f0f921"
             ]
            ],
            "type": "heatmapgl"
           }
          ],
          "histogram": [
           {
            "marker": {
             "pattern": {
              "fillmode": "overlay",
              "size": 10,
              "solidity": 0.2
             }
            },
            "type": "histogram"
           }
          ],
          "histogram2d": [
           {
            "colorbar": {
             "outlinewidth": 0,
             "ticks": ""
            },
            "colorscale": [
             [
              0,
              "#0d0887"
             ],
             [
              0.1111111111111111,
              "#46039f"
             ],
             [
              0.2222222222222222,
              "#7201a8"
             ],
             [
              0.3333333333333333,
              "#9c179e"
             ],
             [
              0.4444444444444444,
              "#bd3786"
             ],
             [
              0.5555555555555556,
              "#d8576b"
             ],
             [
              0.6666666666666666,
              "#ed7953"
             ],
             [
              0.7777777777777778,
              "#fb9f3a"
             ],
             [
              0.8888888888888888,
              "#fdca26"
             ],
             [
              1,
              "#f0f921"
             ]
            ],
            "type": "histogram2d"
           }
          ],
          "histogram2dcontour": [
           {
            "colorbar": {
             "outlinewidth": 0,
             "ticks": ""
            },
            "colorscale": [
             [
              0,
              "#0d0887"
             ],
             [
              0.1111111111111111,
              "#46039f"
             ],
             [
              0.2222222222222222,
              "#7201a8"
             ],
             [
              0.3333333333333333,
              "#9c179e"
             ],
             [
              0.4444444444444444,
              "#bd3786"
             ],
             [
              0.5555555555555556,
              "#d8576b"
             ],
             [
              0.6666666666666666,
              "#ed7953"
             ],
             [
              0.7777777777777778,
              "#fb9f3a"
             ],
             [
              0.8888888888888888,
              "#fdca26"
             ],
             [
              1,
              "#f0f921"
             ]
            ],
            "type": "histogram2dcontour"
           }
          ],
          "mesh3d": [
           {
            "colorbar": {
             "outlinewidth": 0,
             "ticks": ""
            },
            "type": "mesh3d"
           }
          ],
          "parcoords": [
           {
            "line": {
             "colorbar": {
              "outlinewidth": 0,
              "ticks": ""
             }
            },
            "type": "parcoords"
           }
          ],
          "pie": [
           {
            "automargin": true,
            "type": "pie"
           }
          ],
          "scatter": [
           {
            "fillpattern": {
             "fillmode": "overlay",
             "size": 10,
             "solidity": 0.2
            },
            "type": "scatter"
           }
          ],
          "scatter3d": [
           {
            "line": {
             "colorbar": {
              "outlinewidth": 0,
              "ticks": ""
             }
            },
            "marker": {
             "colorbar": {
              "outlinewidth": 0,
              "ticks": ""
             }
            },
            "type": "scatter3d"
           }
          ],
          "scattercarpet": [
           {
            "marker": {
             "colorbar": {
              "outlinewidth": 0,
              "ticks": ""
             }
            },
            "type": "scattercarpet"
           }
          ],
          "scattergeo": [
           {
            "marker": {
             "colorbar": {
              "outlinewidth": 0,
              "ticks": ""
             }
            },
            "type": "scattergeo"
           }
          ],
          "scattergl": [
           {
            "marker": {
             "colorbar": {
              "outlinewidth": 0,
              "ticks": ""
             }
            },
            "type": "scattergl"
           }
          ],
          "scattermapbox": [
           {
            "marker": {
             "colorbar": {
              "outlinewidth": 0,
              "ticks": ""
             }
            },
            "type": "scattermapbox"
           }
          ],
          "scatterpolar": [
           {
            "marker": {
             "colorbar": {
              "outlinewidth": 0,
              "ticks": ""
             }
            },
            "type": "scatterpolar"
           }
          ],
          "scatterpolargl": [
           {
            "marker": {
             "colorbar": {
              "outlinewidth": 0,
              "ticks": ""
             }
            },
            "type": "scatterpolargl"
           }
          ],
          "scatterternary": [
           {
            "marker": {
             "colorbar": {
              "outlinewidth": 0,
              "ticks": ""
             }
            },
            "type": "scatterternary"
           }
          ],
          "surface": [
           {
            "colorbar": {
             "outlinewidth": 0,
             "ticks": ""
            },
            "colorscale": [
             [
              0,
              "#0d0887"
             ],
             [
              0.1111111111111111,
              "#46039f"
             ],
             [
              0.2222222222222222,
              "#7201a8"
             ],
             [
              0.3333333333333333,
              "#9c179e"
             ],
             [
              0.4444444444444444,
              "#bd3786"
             ],
             [
              0.5555555555555556,
              "#d8576b"
             ],
             [
              0.6666666666666666,
              "#ed7953"
             ],
             [
              0.7777777777777778,
              "#fb9f3a"
             ],
             [
              0.8888888888888888,
              "#fdca26"
             ],
             [
              1,
              "#f0f921"
             ]
            ],
            "type": "surface"
           }
          ],
          "table": [
           {
            "cells": {
             "fill": {
              "color": "#EBF0F8"
             },
             "line": {
              "color": "white"
             }
            },
            "header": {
             "fill": {
              "color": "#C8D4E3"
             },
             "line": {
              "color": "white"
             }
            },
            "type": "table"
           }
          ]
         },
         "layout": {
          "annotationdefaults": {
           "arrowcolor": "#2a3f5f",
           "arrowhead": 0,
           "arrowwidth": 1
          },
          "autotypenumbers": "strict",
          "coloraxis": {
           "colorbar": {
            "outlinewidth": 0,
            "ticks": ""
           }
          },
          "colorscale": {
           "diverging": [
            [
             0,
             "#8e0152"
            ],
            [
             0.1,
             "#c51b7d"
            ],
            [
             0.2,
             "#de77ae"
            ],
            [
             0.3,
             "#f1b6da"
            ],
            [
             0.4,
             "#fde0ef"
            ],
            [
             0.5,
             "#f7f7f7"
            ],
            [
             0.6,
             "#e6f5d0"
            ],
            [
             0.7,
             "#b8e186"
            ],
            [
             0.8,
             "#7fbc41"
            ],
            [
             0.9,
             "#4d9221"
            ],
            [
             1,
             "#276419"
            ]
           ],
           "sequential": [
            [
             0,
             "#0d0887"
            ],
            [
             0.1111111111111111,
             "#46039f"
            ],
            [
             0.2222222222222222,
             "#7201a8"
            ],
            [
             0.3333333333333333,
             "#9c179e"
            ],
            [
             0.4444444444444444,
             "#bd3786"
            ],
            [
             0.5555555555555556,
             "#d8576b"
            ],
            [
             0.6666666666666666,
             "#ed7953"
            ],
            [
             0.7777777777777778,
             "#fb9f3a"
            ],
            [
             0.8888888888888888,
             "#fdca26"
            ],
            [
             1,
             "#f0f921"
            ]
           ],
           "sequentialminus": [
            [
             0,
             "#0d0887"
            ],
            [
             0.1111111111111111,
             "#46039f"
            ],
            [
             0.2222222222222222,
             "#7201a8"
            ],
            [
             0.3333333333333333,
             "#9c179e"
            ],
            [
             0.4444444444444444,
             "#bd3786"
            ],
            [
             0.5555555555555556,
             "#d8576b"
            ],
            [
             0.6666666666666666,
             "#ed7953"
            ],
            [
             0.7777777777777778,
             "#fb9f3a"
            ],
            [
             0.8888888888888888,
             "#fdca26"
            ],
            [
             1,
             "#f0f921"
            ]
           ]
          },
          "colorway": [
           "#636efa",
           "#EF553B",
           "#00cc96",
           "#ab63fa",
           "#FFA15A",
           "#19d3f3",
           "#FF6692",
           "#B6E880",
           "#FF97FF",
           "#FECB52"
          ],
          "font": {
           "color": "#2a3f5f"
          },
          "geo": {
           "bgcolor": "white",
           "lakecolor": "white",
           "landcolor": "#E5ECF6",
           "showlakes": true,
           "showland": true,
           "subunitcolor": "white"
          },
          "hoverlabel": {
           "align": "left"
          },
          "hovermode": "closest",
          "mapbox": {
           "style": "light"
          },
          "paper_bgcolor": "white",
          "plot_bgcolor": "#E5ECF6",
          "polar": {
           "angularaxis": {
            "gridcolor": "white",
            "linecolor": "white",
            "ticks": ""
           },
           "bgcolor": "#E5ECF6",
           "radialaxis": {
            "gridcolor": "white",
            "linecolor": "white",
            "ticks": ""
           }
          },
          "scene": {
           "xaxis": {
            "backgroundcolor": "#E5ECF6",
            "gridcolor": "white",
            "gridwidth": 2,
            "linecolor": "white",
            "showbackground": true,
            "ticks": "",
            "zerolinecolor": "white"
           },
           "yaxis": {
            "backgroundcolor": "#E5ECF6",
            "gridcolor": "white",
            "gridwidth": 2,
            "linecolor": "white",
            "showbackground": true,
            "ticks": "",
            "zerolinecolor": "white"
           },
           "zaxis": {
            "backgroundcolor": "#E5ECF6",
            "gridcolor": "white",
            "gridwidth": 2,
            "linecolor": "white",
            "showbackground": true,
            "ticks": "",
            "zerolinecolor": "white"
           }
          },
          "shapedefaults": {
           "line": {
            "color": "#2a3f5f"
           }
          },
          "ternary": {
           "aaxis": {
            "gridcolor": "white",
            "linecolor": "white",
            "ticks": ""
           },
           "baxis": {
            "gridcolor": "white",
            "linecolor": "white",
            "ticks": ""
           },
           "bgcolor": "#E5ECF6",
           "caxis": {
            "gridcolor": "white",
            "linecolor": "white",
            "ticks": ""
           }
          },
          "title": {
           "x": 0.05
          },
          "xaxis": {
           "automargin": true,
           "gridcolor": "white",
           "linecolor": "white",
           "ticks": "",
           "title": {
            "standoff": 15
           },
           "zerolinecolor": "white",
           "zerolinewidth": 2
          },
          "yaxis": {
           "automargin": true,
           "gridcolor": "white",
           "linecolor": "white",
           "ticks": "",
           "title": {
            "standoff": 15
           },
           "zerolinecolor": "white",
           "zerolinewidth": 2
          }
         }
        },
        "title": {
         "text": "Forza Horizon Series Ferrari & Lamborghini Sankey"
        }
       }
      },
      "image/png": "[encoded data removed]",
      "text/html": [
       "<div>                            <div id=\"cec1f4cd-b58e-4620-bdb8-d084646d3a5f\" class=\"plotly-graph-div\" style=\"height:525px; width:100%;\"></div>            <script type=\"text/javascript\">                require([\"plotly\"], function(Plotly) {                    window.PLOTLYENV=window.PLOTLYENV || {};                                    if (document.getElementById(\"cec1f4cd-b58e-4620-bdb8-d084646d3a5f\")) {                    Plotly.newPlot(                        \"cec1f4cd-b58e-4620-bdb8-d084646d3a5f\",                        [{\"link\":{\"source\":[0,0,1,1,2,2,3,3,4,4],\"target\":[5,6,5,6,5,6,5,6,5,6],\"value\":[22,11,21,11,34,18,40,23,41,28]},\"node\":{\"color\":\"blue\",\"label\":[\"Forza Horizon 1\",\"Forza Horizon 2\",\"Forza Horizon 3\",\"Forza Horizon 4\",\"Forza Horizon 5\",\"Ferrari\",\"Lamborghini\"]},\"type\":\"sankey\"}],                        {\"template\":{\"data\":{\"histogram2dcontour\":[{\"type\":\"histogram2dcontour\",\"colorbar\":{\"outlinewidth\":0,\"ticks\":\"\"},\"colorscale\":[[0.0,\"#0d0887\"],[0.1111111111111111,\"#46039f\"],[0.2222222222222222,\"#7201a8\"],[0.3333333333333333,\"#9c179e\"],[0.4444444444444444,\"#bd3786\"],[0.5555555555555556,\"#d8576b\"],[0.6666666666666666,\"#ed7953\"],[0.7777777777777778,\"#fb9f3a\"],[0.8888888888888888,\"#fdca26\"],[1.0,\"#f0f921\"]]}],\"choropleth\":[{\"type\":\"choropleth\",\"colorbar\":{\"outlinewidth\":0,\"ticks\":\"\"}}],\"histogram2d\":[{\"type\":\"histogram2d\",\"colorbar\":{\"outlinewidth\":0,\"ticks\":\"\"},\"colorscale\":[[0.0,\"#0d0887\"],[0.1111111111111111,\"#46039f\"],[0.2222222222222222,\"#7201a8\"],[0.3333333333333333,\"#9c179e\"],[0.4444444444444444,\"#bd3786\"],[0.5555555555555556,\"#d8576b\"],[0.6666666666666666,\"#ed7953\"],[0.7777777777777778,\"#fb9f3a\"],[0.8888888888888888,\"#fdca26\"],[1.0,\"#f0f921\"]]}],\"heatmap\":[{\"type\":\"heatmap\",\"colorbar\":{\"outlinewidth\":0,\"ticks\":\"\"},\"colorscale\":[[0.0,\"#0d0887\"],[0.1111111111111111,\"#46039f\"],[0.2222222222222222,\"#7201a8\"],[0.3333333333333333,\"#9c179e\"],[0.4444444444444444,\"#bd3786\"],[0.5555555555555556,\"#d8576b\"],[0.6666666666666666,\"#ed7953\"],[0.7777777777777778,\"#fb9f3a\"],[0.8888888888888888,\"#fdca26\"],[1.0,\"#f0f921\"]]}],\"heatmapgl\":[{\"type\":\"heatmapgl\",\"colorbar\":{\"outlinewidth\":0,\"ticks\":\"\"},\"colorscale\":[[0.0,\"#0d0887\"],[0.1111111111111111,\"#46039f\"],[0.2222222222222222,\"#7201a8\"],[0.3333333333333333,\"#9c179e\"],[0.4444444444444444,\"#bd3786\"],[0.5555555555555556,\"#d8576b\"],[0.6666666666666666,\"#ed7953\"],[0.7777777777777778,\"#fb9f3a\"],[0.8888888888888888,\"#fdca26\"],[1.0,\"#f0f921\"]]}],\"contourcarpet\":[{\"type\":\"contourcarpet\",\"colorbar\":{\"outlinewidth\":0,\"ticks\":\"\"}}],\"contour\":[{\"type\":\"contour\",\"colorbar\":{\"outlinewidth\":0,\"ticks\":\"\"},\"colorscale\":[[0.0,\"#0d0887\"],[0.1111111111111111,\"#46039f\"],[0.2222222222222222,\"#7201a8\"],[0.3333333333333333,\"#9c179e\"],[0.4444444444444444,\"#bd3786\"],[0.5555555555555556,\"#d8576b\"],[0.6666666666666666,\"#ed7953\"],[0.7777777777777778,\"#fb9f3a\"],[0.8888888888888888,\"#fdca26\"],[1.0,\"#f0f921\"]]}],\"surface\":[{\"type\":\"surface\",\"colorbar\":{\"outlinewidth\":0,\"ticks\":\"\"},\"colorscale\":[[0.0,\"#0d0887\"],[0.1111111111111111,\"#46039f\"],[0.2222222222222222,\"#7201a8\"],[0.3333333333333333,\"#9c179e\"],[0.4444444444444444,\"#bd3786\"],[0.5555555555555556,\"#d8576b\"],[0.6666666666666666,\"#ed7953\"],[0.7777777777777778,\"#fb9f3a\"],[0.8888888888888888,\"#fdca26\"],[1.0,\"#f0f921\"]]}],\"mesh3d\":[{\"type\":\"mesh3d\",\"colorbar\":{\"outlinewidth\":0,\"ticks\":\"\"}}],\"scatter\":[{\"fillpattern\":{\"fillmode\":\"overlay\",\"size\":10,\"solidity\":0.2},\"type\":\"scatter\"}],\"parcoords\":[{\"type\":\"parcoords\",\"line\":{\"colorbar\":{\"outlinewidth\":0,\"ticks\":\"\"}}}],\"scatterpolargl\":[{\"type\":\"scatterpolargl\",\"marker\":{\"colorbar\":{\"outlinewidth\":0,\"ticks\":\"\"}}}],\"bar\":[{\"error_x\":{\"color\":\"#2a3f5f\"},\"error_y\":{\"color\":\"#2a3f5f\"},\"marker\":{\"line\":{\"color\":\"#E5ECF6\",\"width\":0.5},\"pattern\":{\"fillmode\":\"overlay\",\"size\":10,\"solidity\":0.2}},\"type\":\"bar\"}],\"scattergeo\":[{\"type\":\"scattergeo\",\"marker\":{\"colorbar\":{\"outlinewidth\":0,\"ticks\":\"\"}}}],\"scatterpolar\":[{\"type\":\"scatterpolar\",\"marker\":{\"colorbar\":{\"outlinewidth\":0,\"ticks\":\"\"}}}],\"histogram\":[{\"marker\":{\"pattern\":{\"fillmode\":\"overlay\",\"size\":10,\"solidity\":0.2}},\"type\":\"histogram\"}],\"scattergl\":[{\"type\":\"scattergl\",\"marker\":{\"colorbar\":{\"outlinewidth\":0,\"ticks\":\"\"}}}],\"scatter3d\":[{\"type\":\"scatter3d\",\"line\":{\"colorbar\":{\"outlinewidth\":0,\"ticks\":\"\"}},\"marker\":{\"colorbar\":{\"outlinewidth\":0,\"ticks\":\"\"}}}],\"scattermapbox\":[{\"type\":\"scattermapbox\",\"marker\":{\"colorbar\":{\"outlinewidth\":0,\"ticks\":\"\"}}}],\"scatterternary\":[{\"type\":\"scatterternary\",\"marker\":{\"colorbar\":{\"outlinewidth\":0,\"ticks\":\"\"}}}],\"scattercarpet\":[{\"type\":\"scattercarpet\",\"marker\":{\"colorbar\":{\"outlinewidth\":0,\"ticks\":\"\"}}}],\"carpet\":[{\"aaxis\":{\"endlinecolor\":\"#2a3f5f\",\"gridcolor\":\"white\",\"linecolor\":\"white\",\"minorgridcolor\":\"white\",\"startlinecolor\":\"#2a3f5f\"},\"baxis\":{\"endlinecolor\":\"#2a3f5f\",\"gridcolor\":\"white\",\"linecolor\":\"white\",\"minorgridcolor\":\"white\",\"startlinecolor\":\"#2a3f5f\"},\"type\":\"carpet\"}],\"table\":[{\"cells\":{\"fill\":{\"color\":\"#EBF0F8\"},\"line\":{\"color\":\"white\"}},\"header\":{\"fill\":{\"color\":\"#C8D4E3\"},\"line\":{\"color\":\"white\"}},\"type\":\"table\"}],\"barpolar\":[{\"marker\":{\"line\":{\"color\":\"#E5ECF6\",\"width\":0.5},\"pattern\":{\"fillmode\":\"overlay\",\"size\":10,\"solidity\":0.2}},\"type\":\"barpolar\"}],\"pie\":[{\"automargin\":true,\"type\":\"pie\"}]},\"layout\":{\"autotypenumbers\":\"strict\",\"colorway\":[\"#636efa\",\"#EF553B\",\"#00cc96\",\"#ab63fa\",\"#FFA15A\",\"#19d3f3\",\"#FF6692\",\"#B6E880\",\"#FF97FF\",\"#FECB52\"],\"font\":{\"color\":\"#2a3f5f\"},\"hovermode\":\"closest\",\"hoverlabel\":{\"align\":\"left\"},\"paper_bgcolor\":\"white\",\"plot_bgcolor\":\"#E5ECF6\",\"polar\":{\"bgcolor\":\"#E5ECF6\",\"angularaxis\":{\"gridcolor\":\"white\",\"linecolor\":\"white\",\"ticks\":\"\"},\"radialaxis\":{\"gridcolor\":\"white\",\"linecolor\":\"white\",\"ticks\":\"\"}},\"ternary\":{\"bgcolor\":\"#E5ECF6\",\"aaxis\":{\"gridcolor\":\"white\",\"linecolor\":\"white\",\"ticks\":\"\"},\"baxis\":{\"gridcolor\":\"white\",\"linecolor\":\"white\",\"ticks\":\"\"},\"caxis\":{\"gridcolor\":\"white\",\"linecolor\":\"white\",\"ticks\":\"\"}},\"coloraxis\":{\"colorbar\":{\"outlinewidth\":0,\"ticks\":\"\"}},\"colorscale\":{\"sequential\":[[0.0,\"#0d0887\"],[0.1111111111111111,\"#46039f\"],[0.2222222222222222,\"#7201a8\"],[0.3333333333333333,\"#9c179e\"],[0.4444444444444444,\"#bd3786\"],[0.5555555555555556,\"#d8576b\"],[0.6666666666666666,\"#ed7953\"],[0.7777777777777778,\"#fb9f3a\"],[0.8888888888888888,\"#fdca26\"],[1.0,\"#f0f921\"]],\"sequentialminus\":[[0.0,\"#0d0887\"],[0.1111111111111111,\"#46039f\"],[0.2222222222222222,\"#7201a8\"],[0.3333333333333333,\"#9c179e\"],[0.4444444444444444,\"#bd3786\"],[0.5555555555555556,\"#d8576b\"],[0.6666666666666666,\"#ed7953\"],[0.7777777777777778,\"#fb9f3a\"],[0.8888888888888888,\"#fdca26\"],[1.0,\"#f0f921\"]],\"diverging\":[[0,\"#8e0152\"],[0.1,\"#c51b7d\"],[0.2,\"#de77ae\"],[0.3,\"#f1b6da\"],[0.4,\"#fde0ef\"],[0.5,\"#f7f7f7\"],[0.6,\"#e6f5d0\"],[0.7,\"#b8e186\"],[0.8,\"#7fbc41\"],[0.9,\"#4d9221\"],[1,\"#276419\"]]},\"xaxis\":{\"gridcolor\":\"white\",\"linecolor\":\"white\",\"ticks\":\"\",\"title\":{\"standoff\":15},\"zerolinecolor\":\"white\",\"automargin\":true,\"zerolinewidth\":2},\"yaxis\":{\"gridcolor\":\"white\",\"linecolor\":\"white\",\"ticks\":\"\",\"title\":{\"standoff\":15},\"zerolinecolor\":\"white\",\"automargin\":true,\"zerolinewidth\":2},\"scene\":{\"xaxis\":{\"backgroundcolor\":\"#E5ECF6\",\"gridcolor\":\"white\",\"linecolor\":\"white\",\"showbackground\":true,\"ticks\":\"\",\"zerolinecolor\":\"white\",\"gridwidth\":2},\"yaxis\":{\"backgroundcolor\":\"#E5ECF6\",\"gridcolor\":\"white\",\"linecolor\":\"white\",\"showbackground\":true,\"ticks\":\"\",\"zerolinecolor\":\"white\",\"gridwidth\":2},\"zaxis\":{\"backgroundcolor\":\"#E5ECF6\",\"gridcolor\":\"white\",\"linecolor\":\"white\",\"showbackground\":true,\"ticks\":\"\",\"zerolinecolor\":\"white\",\"gridwidth\":2}},\"shapedefaults\":{\"line\":{\"color\":\"#2a3f5f\"}},\"annotationdefaults\":{\"arrowcolor\":\"#2a3f5f\",\"arrowhead\":0,\"arrowwidth\":1},\"geo\":{\"bgcolor\":\"white\",\"landcolor\":\"#E5ECF6\",\"subunitcolor\":\"white\",\"showland\":true,\"showlakes\":true,\"lakecolor\":\"white\"},\"title\":{\"x\":0.05},\"mapbox\":{\"style\":\"light\"}}},\"title\":{\"text\":\"Forza Horizon Series Ferrari & Lamborghini Sankey\"},\"font\":{\"size\":10}},                        {\"responsive\": true}                    ).then(function(){\n",
       "                            \n",
       "var gd = document.getElementById('cec1f4cd-b58e-4620-bdb8-d084646d3a5f');\n",
       "var x = new MutationObserver(function (mutations, observer) {{\n",
       "        var display = window.getComputedStyle(gd).display;\n",
       "        if (!display || display === 'none') {{\n",
       "            console.log([gd, 'removed!']);\n",
       "            Plotly.purge(gd);\n",
       "            observer.disconnect();\n",
       "        }}\n",
       "}});\n",
       "\n",
       "// Listen for the removal of the full notebook cells\n",
       "var notebookContainer = gd.closest('#notebook-container');\n",
       "if (notebookContainer) {{\n",
       "    x.observe(notebookContainer, {childList: true});\n",
       "}}\n",
       "\n",
       "// Listen for the clearing of the current output cell\n",
       "var outputEl = gd.closest('.output');\n",
       "if (outputEl) {{\n",
       "    x.observe(outputEl, {childList: true});\n",
       "}}\n",
       "\n",
       "                        })                };                });            </script>        </div>"
      ]
     },
     "metadata": {},
     "output_type": "display_data"
    }
   ],
   "source": [
    "fig = go.Figure(\n",
    "    data = [\n",
    "        go.Sankey(\n",
    "            node = dict(\n",
    "                label = sank_label,\n",
    "                color = \"blue\",\n",
    "            ),\n",
    "            link = dict(\n",
    "                source = sank_source,\n",
    "                target = sank_target,\n",
    "                value = sank_value,\n",
    "            )\n",
    "        )\n",
    "    ]\n",
    ")\n",
    "fig.update_layout(\n",
    "    title_text = \"Forza Horizon Series Ferrari & Lamborghini Sankey\", \n",
    "    font_size = 10\n",
    ")"
   ]
  },
  {
   "cell_type": "markdown",
   "id": "83c0fdd0-3bc0-4233-9c4a-5e391f097148",
   "metadata": {},
   "source": [
    "## World Map of Vehicles in Forza Horizon 5 (Choropleth) "
   ]
  },
  {
   "cell_type": "code",
   "execution_count": 791,
   "id": "e07ad8a8-1497-4bdb-82b2-ef339cdea4f1",
   "metadata": {
    "editable": true,
    "slideshow": {
     "slide_type": ""
    },
    "tags": []
   },
   "outputs": [
    {
     "name": "stdout",
     "output_type": "stream",
     "text": [
      "SubdivisionHierarchy(code='MX-MEX', country_code='MX', name='México', parent_code=None, type='State')\n"
     ]
    }
   ],
   "source": [
    "country_counter = collections.Counter(\n",
    "    sorted(\n",
    "        vehicle_df.loc[\n",
    "            (vehicle_df[\"Game\"] == \"Forza Horizon 5\") \n",
    "            & (vehicle_df[\"How to Obtain\"] != \"Traffic\"),\n",
    "            \"Country\"\n",
    "        ]\n",
    "    )\n",
    ")\n",
    "country_df = pd.DataFrame.from_dict(\n",
    "    {\n",
    "        \"Country\": country_counter.keys(),\n",
    "        \"Vehicle Count\": country_counter.values(),\n",
    "        \"ISO Alpha\": [\n",
    "            pycountry.countries.search_fuzzy(x)[0].alpha_3\n",
    "            for x in country_counter.keys()\n",
    "        ]\n",
    "    }   \n",
    ")"
   ]
  },
  {
   "cell_type": "code",
   "execution_count": 792,
   "id": "acdcf652-b9fd-4a10-9758-dbbbe77e3909",
   "metadata": {},
   "outputs": [
    {
     "data": {
      "application/vnd.plotly.v1+json": {
       "config": {
        "plotlyServerURL": "https://plot.ly"
       },
       "data": [
        {
         "coloraxis": "coloraxis",
         "geo": "geo",
         "hovertemplate": "<b>%{hovertext}</b><br><br>ISO Alpha=%{location}<br>Vehicle Count=%{z}<extra></extra>",
         "hovertext": [
          "Australia",
          "Austria",
          "Canada",
          "China",
          "Croatia",
          "Denmark",
          "France",
          "Germany",
          "Italy",
          "Japan",
          "Mexico",
          "Netherlands",
          "South Korea",
          "Spain",
          "Sweden",
          "United Kingdom",
          "United States"
         ],
         "locations": [
          "AUS",
          "AUT",
          "CAN",
          "CHN",
          "HRV",
          "DNK",
          "FRA",
          "DEU",
          "ITA",
          "JPN",
          "MEX",
          "NLD",
          "KOR",
          "ESP",
          "SWE",
          "GBR",
          "USA"
         ],
         "name": "",
         "type": "choropleth",
         "z": [
          7,
          2,
          1,
          5,
          2,
          2,
          30,
          143,
          99,
          98,
          1,
          1,
          1,
          3,
          10,
          101,
          247
         ]
        }
       ],
       "layout": {
        "autosize": true,
        "coloraxis": {
         "colorbar": {
          "title": {
           "text": "Vehicle Count"
          }
         },
         "colorscale": [
          [
           0,
           "#0d0887"
          ],
          [
           0.1111111111111111,
           "#46039f"
          ],
          [
           0.2222222222222222,
           "#7201a8"
          ],
          [
           0.3333333333333333,
           "#9c179e"
          ],
          [
           0.4444444444444444,
           "#bd3786"
          ],
          [
           0.5555555555555556,
           "#d8576b"
          ],
          [
           0.6666666666666666,
           "#ed7953"
          ],
          [
           0.7777777777777778,
           "#fb9f3a"
          ],
          [
           0.8888888888888888,
           "#fdca26"
          ],
          [
           1,
           "#f0f921"
          ]
         ]
        },
        "font": {
         "size": 10
        },
        "geo": {
         "center": {},
         "domain": {
          "x": [
           0,
           1
          ],
          "y": [
           0,
           1
          ]
         }
        },
        "legend": {
         "tracegroupgap": 0
        },
        "template": {
         "data": {
          "bar": [
           {
            "error_x": {
             "color": "#2a3f5f"
            },
            "error_y": {
             "color": "#2a3f5f"
            },
            "marker": {
             "line": {
              "color": "#E5ECF6",
              "width": 0.5
             },
             "pattern": {
              "fillmode": "overlay",
              "size": 10,
              "solidity": 0.2
             }
            },
            "type": "bar"
           }
          ],
          "barpolar": [
           {
            "marker": {
             "line": {
              "color": "#E5ECF6",
              "width": 0.5
             },
             "pattern": {
              "fillmode": "overlay",
              "size": 10,
              "solidity": 0.2
             }
            },
            "type": "barpolar"
           }
          ],
          "carpet": [
           {
            "aaxis": {
             "endlinecolor": "#2a3f5f",
             "gridcolor": "white",
             "linecolor": "white",
             "minorgridcolor": "white",
             "startlinecolor": "#2a3f5f"
            },
            "baxis": {
             "endlinecolor": "#2a3f5f",
             "gridcolor": "white",
             "linecolor": "white",
             "minorgridcolor": "white",
             "startlinecolor": "#2a3f5f"
            },
            "type": "carpet"
           }
          ],
          "choropleth": [
           {
            "colorbar": {
             "outlinewidth": 0,
             "ticks": ""
            },
            "type": "choropleth"
           }
          ],
          "contour": [
           {
            "colorbar": {
             "outlinewidth": 0,
             "ticks": ""
            },
            "colorscale": [
             [
              0,
              "#0d0887"
             ],
             [
              0.1111111111111111,
              "#46039f"
             ],
             [
              0.2222222222222222,
              "#7201a8"
             ],
             [
              0.3333333333333333,
              "#9c179e"
             ],
             [
              0.4444444444444444,
              "#bd3786"
             ],
             [
              0.5555555555555556,
              "#d8576b"
             ],
             [
              0.6666666666666666,
              "#ed7953"
             ],
             [
              0.7777777777777778,
              "#fb9f3a"
             ],
             [
              0.8888888888888888,
              "#fdca26"
             ],
             [
              1,
              "#f0f921"
             ]
            ],
            "type": "contour"
           }
          ],
          "contourcarpet": [
           {
            "colorbar": {
             "outlinewidth": 0,
             "ticks": ""
            },
            "type": "contourcarpet"
           }
          ],
          "heatmap": [
           {
            "colorbar": {
             "outlinewidth": 0,
             "ticks": ""
            },
            "colorscale": [
             [
              0,
              "#0d0887"
             ],
             [
              0.1111111111111111,
              "#46039f"
             ],
             [
              0.2222222222222222,
              "#7201a8"
             ],
             [
              0.3333333333333333,
              "#9c179e"
             ],
             [
              0.4444444444444444,
              "#bd3786"
             ],
             [
              0.5555555555555556,
              "#d8576b"
             ],
             [
              0.6666666666666666,
              "#ed7953"
             ],
             [
              0.7777777777777778,
              "#fb9f3a"
             ],
             [
              0.8888888888888888,
              "#fdca26"
             ],
             [
              1,
              "#f0f921"
             ]
            ],
            "type": "heatmap"
           }
          ],
          "heatmapgl": [
           {
            "colorbar": {
             "outlinewidth": 0,
             "ticks": ""
            },
            "colorscale": [
             [
              0,
              "#0d0887"
             ],
             [
              0.1111111111111111,
              "#46039f"
             ],
             [
              0.2222222222222222,
              "#7201a8"
             ],
             [
              0.3333333333333333,
              "#9c179e"
             ],
             [
              0.4444444444444444,
              "#bd3786"
             ],
             [
              0.5555555555555556,
              "#d8576b"
             ],
             [
              0.6666666666666666,
              "#ed7953"
             ],
             [
              0.7777777777777778,
              "#fb9f3a"
             ],
             [
              0.8888888888888888,
              "#fdca26"
             ],
             [
              1,
              "#f0f921"
             ]
            ],
            "type": "heatmapgl"
           }
          ],
          "histogram": [
           {
            "marker": {
             "pattern": {
              "fillmode": "overlay",
              "size": 10,
              "solidity": 0.2
             }
            },
            "type": "histogram"
           }
          ],
          "histogram2d": [
           {
            "colorbar": {
             "outlinewidth": 0,
             "ticks": ""
            },
            "colorscale": [
             [
              0,
              "#0d0887"
             ],
             [
              0.1111111111111111,
              "#46039f"
             ],
             [
              0.2222222222222222,
              "#7201a8"
             ],
             [
              0.3333333333333333,
              "#9c179e"
             ],
             [
              0.4444444444444444,
              "#bd3786"
             ],
             [
              0.5555555555555556,
              "#d8576b"
             ],
             [
              0.6666666666666666,
              "#ed7953"
             ],
             [
              0.7777777777777778,
              "#fb9f3a"
             ],
             [
              0.8888888888888888,
              "#fdca26"
             ],
             [
              1,
              "#f0f921"
             ]
            ],
            "type": "histogram2d"
           }
          ],
          "histogram2dcontour": [
           {
            "colorbar": {
             "outlinewidth": 0,
             "ticks": ""
            },
            "colorscale": [
             [
              0,
              "#0d0887"
             ],
             [
              0.1111111111111111,
              "#46039f"
             ],
             [
              0.2222222222222222,
              "#7201a8"
             ],
             [
              0.3333333333333333,
              "#9c179e"
             ],
             [
              0.4444444444444444,
              "#bd3786"
             ],
             [
              0.5555555555555556,
              "#d8576b"
             ],
             [
              0.6666666666666666,
              "#ed7953"
             ],
             [
              0.7777777777777778,
              "#fb9f3a"
             ],
             [
              0.8888888888888888,
              "#fdca26"
             ],
             [
              1,
              "#f0f921"
             ]
            ],
            "type": "histogram2dcontour"
           }
          ],
          "mesh3d": [
           {
            "colorbar": {
             "outlinewidth": 0,
             "ticks": ""
            },
            "type": "mesh3d"
           }
          ],
          "parcoords": [
           {
            "line": {
             "colorbar": {
              "outlinewidth": 0,
              "ticks": ""
             }
            },
            "type": "parcoords"
           }
          ],
          "pie": [
           {
            "automargin": true,
            "type": "pie"
           }
          ],
          "scatter": [
           {
            "fillpattern": {
             "fillmode": "overlay",
             "size": 10,
             "solidity": 0.2
            },
            "type": "scatter"
           }
          ],
          "scatter3d": [
           {
            "line": {
             "colorbar": {
              "outlinewidth": 0,
              "ticks": ""
             }
            },
            "marker": {
             "colorbar": {
              "outlinewidth": 0,
              "ticks": ""
             }
            },
            "type": "scatter3d"
           }
          ],
          "scattercarpet": [
           {
            "marker": {
             "colorbar": {
              "outlinewidth": 0,
              "ticks": ""
             }
            },
            "type": "scattercarpet"
           }
          ],
          "scattergeo": [
           {
            "marker": {
             "colorbar": {
              "outlinewidth": 0,
              "ticks": ""
             }
            },
            "type": "scattergeo"
           }
          ],
          "scattergl": [
           {
            "marker": {
             "colorbar": {
              "outlinewidth": 0,
              "ticks": ""
             }
            },
            "type": "scattergl"
           }
          ],
          "scattermapbox": [
           {
            "marker": {
             "colorbar": {
              "outlinewidth": 0,
              "ticks": ""
             }
            },
            "type": "scattermapbox"
           }
          ],
          "scatterpolar": [
           {
            "marker": {
             "colorbar": {
              "outlinewidth": 0,
              "ticks": ""
             }
            },
            "type": "scatterpolar"
           }
          ],
          "scatterpolargl": [
           {
            "marker": {
             "colorbar": {
              "outlinewidth": 0,
              "ticks": ""
             }
            },
            "type": "scatterpolargl"
           }
          ],
          "scatterternary": [
           {
            "marker": {
             "colorbar": {
              "outlinewidth": 0,
              "ticks": ""
             }
            },
            "type": "scatterternary"
           }
          ],
          "surface": [
           {
            "colorbar": {
             "outlinewidth": 0,
             "ticks": ""
            },
            "colorscale": [
             [
              0,
              "#0d0887"
             ],
             [
              0.1111111111111111,
              "#46039f"
             ],
             [
              0.2222222222222222,
              "#7201a8"
             ],
             [
              0.3333333333333333,
              "#9c179e"
             ],
             [
              0.4444444444444444,
              "#bd3786"
             ],
             [
              0.5555555555555556,
              "#d8576b"
             ],
             [
              0.6666666666666666,
              "#ed7953"
             ],
             [
              0.7777777777777778,
              "#fb9f3a"
             ],
             [
              0.8888888888888888,
              "#fdca26"
             ],
             [
              1,
              "#f0f921"
             ]
            ],
            "type": "surface"
           }
          ],
          "table": [
           {
            "cells": {
             "fill": {
              "color": "#EBF0F8"
             },
             "line": {
              "color": "white"
             }
            },
            "header": {
             "fill": {
              "color": "#C8D4E3"
             },
             "line": {
              "color": "white"
             }
            },
            "type": "table"
           }
          ]
         },
         "layout": {
          "annotationdefaults": {
           "arrowcolor": "#2a3f5f",
           "arrowhead": 0,
           "arrowwidth": 1
          },
          "autotypenumbers": "strict",
          "coloraxis": {
           "colorbar": {
            "outlinewidth": 0,
            "ticks": ""
           }
          },
          "colorscale": {
           "diverging": [
            [
             0,
             "#8e0152"
            ],
            [
             0.1,
             "#c51b7d"
            ],
            [
             0.2,
             "#de77ae"
            ],
            [
             0.3,
             "#f1b6da"
            ],
            [
             0.4,
             "#fde0ef"
            ],
            [
             0.5,
             "#f7f7f7"
            ],
            [
             0.6,
             "#e6f5d0"
            ],
            [
             0.7,
             "#b8e186"
            ],
            [
             0.8,
             "#7fbc41"
            ],
            [
             0.9,
             "#4d9221"
            ],
            [
             1,
             "#276419"
            ]
           ],
           "sequential": [
            [
             0,
             "#0d0887"
            ],
            [
             0.1111111111111111,
             "#46039f"
            ],
            [
             0.2222222222222222,
             "#7201a8"
            ],
            [
             0.3333333333333333,
             "#9c179e"
            ],
            [
             0.4444444444444444,
             "#bd3786"
            ],
            [
             0.5555555555555556,
             "#d8576b"
            ],
            [
             0.6666666666666666,
             "#ed7953"
            ],
            [
             0.7777777777777778,
             "#fb9f3a"
            ],
            [
             0.8888888888888888,
             "#fdca26"
            ],
            [
             1,
             "#f0f921"
            ]
           ],
           "sequentialminus": [
            [
             0,
             "#0d0887"
            ],
            [
             0.1111111111111111,
             "#46039f"
            ],
            [
             0.2222222222222222,
             "#7201a8"
            ],
            [
             0.3333333333333333,
             "#9c179e"
            ],
            [
             0.4444444444444444,
             "#bd3786"
            ],
            [
             0.5555555555555556,
             "#d8576b"
            ],
            [
             0.6666666666666666,
             "#ed7953"
            ],
            [
             0.7777777777777778,
             "#fb9f3a"
            ],
            [
             0.8888888888888888,
             "#fdca26"
            ],
            [
             1,
             "#f0f921"
            ]
           ]
          },
          "colorway": [
           "#636efa",
           "#EF553B",
           "#00cc96",
           "#ab63fa",
           "#FFA15A",
           "#19d3f3",
           "#FF6692",
           "#B6E880",
           "#FF97FF",
           "#FECB52"
          ],
          "font": {
           "color": "#2a3f5f"
          },
          "geo": {
           "bgcolor": "white",
           "lakecolor": "white",
           "landcolor": "#E5ECF6",
           "showlakes": true,
           "showland": true,
           "subunitcolor": "white"
          },
          "hoverlabel": {
           "align": "left"
          },
          "hovermode": "closest",
          "mapbox": {
           "style": "light"
          },
          "paper_bgcolor": "white",
          "plot_bgcolor": "#E5ECF6",
          "polar": {
           "angularaxis": {
            "gridcolor": "white",
            "linecolor": "white",
            "ticks": ""
           },
           "bgcolor": "#E5ECF6",
           "radialaxis": {
            "gridcolor": "white",
            "linecolor": "white",
            "ticks": ""
           }
          },
          "scene": {
           "xaxis": {
            "backgroundcolor": "#E5ECF6",
            "gridcolor": "white",
            "gridwidth": 2,
            "linecolor": "white",
            "showbackground": true,
            "ticks": "",
            "zerolinecolor": "white"
           },
           "yaxis": {
            "backgroundcolor": "#E5ECF6",
            "gridcolor": "white",
            "gridwidth": 2,
            "linecolor": "white",
            "showbackground": true,
            "ticks": "",
            "zerolinecolor": "white"
           },
           "zaxis": {
            "backgroundcolor": "#E5ECF6",
            "gridcolor": "white",
            "gridwidth": 2,
            "linecolor": "white",
            "showbackground": true,
            "ticks": "",
            "zerolinecolor": "white"
           }
          },
          "shapedefaults": {
           "line": {
            "color": "#2a3f5f"
           }
          },
          "ternary": {
           "aaxis": {
            "gridcolor": "white",
            "linecolor": "white",
            "ticks": ""
           },
           "baxis": {
            "gridcolor": "white",
            "linecolor": "white",
            "ticks": ""
           },
           "bgcolor": "#E5ECF6",
           "caxis": {
            "gridcolor": "white",
            "linecolor": "white",
            "ticks": ""
           }
          },
          "title": {
           "x": 0.05
          },
          "xaxis": {
           "automargin": true,
           "gridcolor": "white",
           "linecolor": "white",
           "ticks": "",
           "title": {
            "standoff": 15
           },
           "zerolinecolor": "white",
           "zerolinewidth": 2
          },
          "yaxis": {
           "automargin": true,
           "gridcolor": "white",
           "linecolor": "white",
           "ticks": "",
           "title": {
            "standoff": 15
           },
           "zerolinecolor": "white",
           "zerolinewidth": 2
          }
         }
        },
        "title": {
         "text": "World Map of Vehicles in Forza Horizon 5"
        }
       }
      },
      "image/png": "[encoded data removed]",
      "text/html": [
       "<div>                            <div id=\"e822f95c-1643-4fcb-8691-336b940f4462\" class=\"plotly-graph-div\" style=\"height:800px; width:100%;\"></div>            <script type=\"text/javascript\">                require([\"plotly\"], function(Plotly) {                    window.PLOTLYENV=window.PLOTLYENV || {};                                    if (document.getElementById(\"e822f95c-1643-4fcb-8691-336b940f4462\")) {                    Plotly.newPlot(                        \"e822f95c-1643-4fcb-8691-336b940f4462\",                        [{\"coloraxis\":\"coloraxis\",\"geo\":\"geo\",\"hovertemplate\":\"\\u003cb\\u003e%{hovertext}\\u003c\\u002fb\\u003e\\u003cbr\\u003e\\u003cbr\\u003eISO Alpha=%{location}\\u003cbr\\u003eVehicle Count=%{z}\\u003cextra\\u003e\\u003c\\u002fextra\\u003e\",\"hovertext\":[\"Australia\",\"Austria\",\"Canada\",\"China\",\"Croatia\",\"Denmark\",\"France\",\"Germany\",\"Italy\",\"Japan\",\"Mexico\",\"Netherlands\",\"South Korea\",\"Spain\",\"Sweden\",\"United Kingdom\",\"United States\"],\"locations\":[\"AUS\",\"AUT\",\"CAN\",\"CHN\",\"HRV\",\"DNK\",\"FRA\",\"DEU\",\"ITA\",\"JPN\",\"MEX\",\"NLD\",\"KOR\",\"ESP\",\"SWE\",\"GBR\",\"USA\"],\"name\":\"\",\"z\":[7,2,1,5,2,2,30,143,99,98,1,1,1,3,10,101,247],\"type\":\"choropleth\"}],                        {\"template\":{\"data\":{\"histogram2dcontour\":[{\"type\":\"histogram2dcontour\",\"colorbar\":{\"outlinewidth\":0,\"ticks\":\"\"},\"colorscale\":[[0.0,\"#0d0887\"],[0.1111111111111111,\"#46039f\"],[0.2222222222222222,\"#7201a8\"],[0.3333333333333333,\"#9c179e\"],[0.4444444444444444,\"#bd3786\"],[0.5555555555555556,\"#d8576b\"],[0.6666666666666666,\"#ed7953\"],[0.7777777777777778,\"#fb9f3a\"],[0.8888888888888888,\"#fdca26\"],[1.0,\"#f0f921\"]]}],\"choropleth\":[{\"type\":\"choropleth\",\"colorbar\":{\"outlinewidth\":0,\"ticks\":\"\"}}],\"histogram2d\":[{\"type\":\"histogram2d\",\"colorbar\":{\"outlinewidth\":0,\"ticks\":\"\"},\"colorscale\":[[0.0,\"#0d0887\"],[0.1111111111111111,\"#46039f\"],[0.2222222222222222,\"#7201a8\"],[0.3333333333333333,\"#9c179e\"],[0.4444444444444444,\"#bd3786\"],[0.5555555555555556,\"#d8576b\"],[0.6666666666666666,\"#ed7953\"],[0.7777777777777778,\"#fb9f3a\"],[0.8888888888888888,\"#fdca26\"],[1.0,\"#f0f921\"]]}],\"heatmap\":[{\"type\":\"heatmap\",\"colorbar\":{\"outlinewidth\":0,\"ticks\":\"\"},\"colorscale\":[[0.0,\"#0d0887\"],[0.1111111111111111,\"#46039f\"],[0.2222222222222222,\"#7201a8\"],[0.3333333333333333,\"#9c179e\"],[0.4444444444444444,\"#bd3786\"],[0.5555555555555556,\"#d8576b\"],[0.6666666666666666,\"#ed7953\"],[0.7777777777777778,\"#fb9f3a\"],[0.8888888888888888,\"#fdca26\"],[1.0,\"#f0f921\"]]}],\"heatmapgl\":[{\"type\":\"heatmapgl\",\"colorbar\":{\"outlinewidth\":0,\"ticks\":\"\"},\"colorscale\":[[0.0,\"#0d0887\"],[0.1111111111111111,\"#46039f\"],[0.2222222222222222,\"#7201a8\"],[0.3333333333333333,\"#9c179e\"],[0.4444444444444444,\"#bd3786\"],[0.5555555555555556,\"#d8576b\"],[0.6666666666666666,\"#ed7953\"],[0.7777777777777778,\"#fb9f3a\"],[0.8888888888888888,\"#fdca26\"],[1.0,\"#f0f921\"]]}],\"contourcarpet\":[{\"type\":\"contourcarpet\",\"colorbar\":{\"outlinewidth\":0,\"ticks\":\"\"}}],\"contour\":[{\"type\":\"contour\",\"colorbar\":{\"outlinewidth\":0,\"ticks\":\"\"},\"colorscale\":[[0.0,\"#0d0887\"],[0.1111111111111111,\"#46039f\"],[0.2222222222222222,\"#7201a8\"],[0.3333333333333333,\"#9c179e\"],[0.4444444444444444,\"#bd3786\"],[0.5555555555555556,\"#d8576b\"],[0.6666666666666666,\"#ed7953\"],[0.7777777777777778,\"#fb9f3a\"],[0.8888888888888888,\"#fdca26\"],[1.0,\"#f0f921\"]]}],\"surface\":[{\"type\":\"surface\",\"colorbar\":{\"outlinewidth\":0,\"ticks\":\"\"},\"colorscale\":[[0.0,\"#0d0887\"],[0.1111111111111111,\"#46039f\"],[0.2222222222222222,\"#7201a8\"],[0.3333333333333333,\"#9c179e\"],[0.4444444444444444,\"#bd3786\"],[0.5555555555555556,\"#d8576b\"],[0.6666666666666666,\"#ed7953\"],[0.7777777777777778,\"#fb9f3a\"],[0.8888888888888888,\"#fdca26\"],[1.0,\"#f0f921\"]]}],\"mesh3d\":[{\"type\":\"mesh3d\",\"colorbar\":{\"outlinewidth\":0,\"ticks\":\"\"}}],\"scatter\":[{\"fillpattern\":{\"fillmode\":\"overlay\",\"size\":10,\"solidity\":0.2},\"type\":\"scatter\"}],\"parcoords\":[{\"type\":\"parcoords\",\"line\":{\"colorbar\":{\"outlinewidth\":0,\"ticks\":\"\"}}}],\"scatterpolargl\":[{\"type\":\"scatterpolargl\",\"marker\":{\"colorbar\":{\"outlinewidth\":0,\"ticks\":\"\"}}}],\"bar\":[{\"error_x\":{\"color\":\"#2a3f5f\"},\"error_y\":{\"color\":\"#2a3f5f\"},\"marker\":{\"line\":{\"color\":\"#E5ECF6\",\"width\":0.5},\"pattern\":{\"fillmode\":\"overlay\",\"size\":10,\"solidity\":0.2}},\"type\":\"bar\"}],\"scattergeo\":[{\"type\":\"scattergeo\",\"marker\":{\"colorbar\":{\"outlinewidth\":0,\"ticks\":\"\"}}}],\"scatterpolar\":[{\"type\":\"scatterpolar\",\"marker\":{\"colorbar\":{\"outlinewidth\":0,\"ticks\":\"\"}}}],\"histogram\":[{\"marker\":{\"pattern\":{\"fillmode\":\"overlay\",\"size\":10,\"solidity\":0.2}},\"type\":\"histogram\"}],\"scattergl\":[{\"type\":\"scattergl\",\"marker\":{\"colorbar\":{\"outlinewidth\":0,\"ticks\":\"\"}}}],\"scatter3d\":[{\"type\":\"scatter3d\",\"line\":{\"colorbar\":{\"outlinewidth\":0,\"ticks\":\"\"}},\"marker\":{\"colorbar\":{\"outlinewidth\":0,\"ticks\":\"\"}}}],\"scattermapbox\":[{\"type\":\"scattermapbox\",\"marker\":{\"colorbar\":{\"outlinewidth\":0,\"ticks\":\"\"}}}],\"scatterternary\":[{\"type\":\"scatterternary\",\"marker\":{\"colorbar\":{\"outlinewidth\":0,\"ticks\":\"\"}}}],\"scattercarpet\":[{\"type\":\"scattercarpet\",\"marker\":{\"colorbar\":{\"outlinewidth\":0,\"ticks\":\"\"}}}],\"carpet\":[{\"aaxis\":{\"endlinecolor\":\"#2a3f5f\",\"gridcolor\":\"white\",\"linecolor\":\"white\",\"minorgridcolor\":\"white\",\"startlinecolor\":\"#2a3f5f\"},\"baxis\":{\"endlinecolor\":\"#2a3f5f\",\"gridcolor\":\"white\",\"linecolor\":\"white\",\"minorgridcolor\":\"white\",\"startlinecolor\":\"#2a3f5f\"},\"type\":\"carpet\"}],\"table\":[{\"cells\":{\"fill\":{\"color\":\"#EBF0F8\"},\"line\":{\"color\":\"white\"}},\"header\":{\"fill\":{\"color\":\"#C8D4E3\"},\"line\":{\"color\":\"white\"}},\"type\":\"table\"}],\"barpolar\":[{\"marker\":{\"line\":{\"color\":\"#E5ECF6\",\"width\":0.5},\"pattern\":{\"fillmode\":\"overlay\",\"size\":10,\"solidity\":0.2}},\"type\":\"barpolar\"}],\"pie\":[{\"automargin\":true,\"type\":\"pie\"}]},\"layout\":{\"autotypenumbers\":\"strict\",\"colorway\":[\"#636efa\",\"#EF553B\",\"#00cc96\",\"#ab63fa\",\"#FFA15A\",\"#19d3f3\",\"#FF6692\",\"#B6E880\",\"#FF97FF\",\"#FECB52\"],\"font\":{\"color\":\"#2a3f5f\"},\"hovermode\":\"closest\",\"hoverlabel\":{\"align\":\"left\"},\"paper_bgcolor\":\"white\",\"plot_bgcolor\":\"#E5ECF6\",\"polar\":{\"bgcolor\":\"#E5ECF6\",\"angularaxis\":{\"gridcolor\":\"white\",\"linecolor\":\"white\",\"ticks\":\"\"},\"radialaxis\":{\"gridcolor\":\"white\",\"linecolor\":\"white\",\"ticks\":\"\"}},\"ternary\":{\"bgcolor\":\"#E5ECF6\",\"aaxis\":{\"gridcolor\":\"white\",\"linecolor\":\"white\",\"ticks\":\"\"},\"baxis\":{\"gridcolor\":\"white\",\"linecolor\":\"white\",\"ticks\":\"\"},\"caxis\":{\"gridcolor\":\"white\",\"linecolor\":\"white\",\"ticks\":\"\"}},\"coloraxis\":{\"colorbar\":{\"outlinewidth\":0,\"ticks\":\"\"}},\"colorscale\":{\"sequential\":[[0.0,\"#0d0887\"],[0.1111111111111111,\"#46039f\"],[0.2222222222222222,\"#7201a8\"],[0.3333333333333333,\"#9c179e\"],[0.4444444444444444,\"#bd3786\"],[0.5555555555555556,\"#d8576b\"],[0.6666666666666666,\"#ed7953\"],[0.7777777777777778,\"#fb9f3a\"],[0.8888888888888888,\"#fdca26\"],[1.0,\"#f0f921\"]],\"sequentialminus\":[[0.0,\"#0d0887\"],[0.1111111111111111,\"#46039f\"],[0.2222222222222222,\"#7201a8\"],[0.3333333333333333,\"#9c179e\"],[0.4444444444444444,\"#bd3786\"],[0.5555555555555556,\"#d8576b\"],[0.6666666666666666,\"#ed7953\"],[0.7777777777777778,\"#fb9f3a\"],[0.8888888888888888,\"#fdca26\"],[1.0,\"#f0f921\"]],\"diverging\":[[0,\"#8e0152\"],[0.1,\"#c51b7d\"],[0.2,\"#de77ae\"],[0.3,\"#f1b6da\"],[0.4,\"#fde0ef\"],[0.5,\"#f7f7f7\"],[0.6,\"#e6f5d0\"],[0.7,\"#b8e186\"],[0.8,\"#7fbc41\"],[0.9,\"#4d9221\"],[1,\"#276419\"]]},\"xaxis\":{\"gridcolor\":\"white\",\"linecolor\":\"white\",\"ticks\":\"\",\"title\":{\"standoff\":15},\"zerolinecolor\":\"white\",\"automargin\":true,\"zerolinewidth\":2},\"yaxis\":{\"gridcolor\":\"white\",\"linecolor\":\"white\",\"ticks\":\"\",\"title\":{\"standoff\":15},\"zerolinecolor\":\"white\",\"automargin\":true,\"zerolinewidth\":2},\"scene\":{\"xaxis\":{\"backgroundcolor\":\"#E5ECF6\",\"gridcolor\":\"white\",\"linecolor\":\"white\",\"showbackground\":true,\"ticks\":\"\",\"zerolinecolor\":\"white\",\"gridwidth\":2},\"yaxis\":{\"backgroundcolor\":\"#E5ECF6\",\"gridcolor\":\"white\",\"linecolor\":\"white\",\"showbackground\":true,\"ticks\":\"\",\"zerolinecolor\":\"white\",\"gridwidth\":2},\"zaxis\":{\"backgroundcolor\":\"#E5ECF6\",\"gridcolor\":\"white\",\"linecolor\":\"white\",\"showbackground\":true,\"ticks\":\"\",\"zerolinecolor\":\"white\",\"gridwidth\":2}},\"shapedefaults\":{\"line\":{\"color\":\"#2a3f5f\"}},\"annotationdefaults\":{\"arrowcolor\":\"#2a3f5f\",\"arrowhead\":0,\"arrowwidth\":1},\"geo\":{\"bgcolor\":\"white\",\"landcolor\":\"#E5ECF6\",\"subunitcolor\":\"white\",\"showland\":true,\"showlakes\":true,\"lakecolor\":\"white\"},\"title\":{\"x\":0.05},\"mapbox\":{\"style\":\"light\"}}},\"geo\":{\"domain\":{\"x\":[0.0,1.0],\"y\":[0.0,1.0]},\"center\":{}},\"coloraxis\":{\"colorbar\":{\"title\":{\"text\":\"Vehicle Count\"}},\"colorscale\":[[0.0,\"#0d0887\"],[0.1111111111111111,\"#46039f\"],[0.2222222222222222,\"#7201a8\"],[0.3333333333333333,\"#9c179e\"],[0.4444444444444444,\"#bd3786\"],[0.5555555555555556,\"#d8576b\"],[0.6666666666666666,\"#ed7953\"],[0.7777777777777778,\"#fb9f3a\"],[0.8888888888888888,\"#fdca26\"],[1.0,\"#f0f921\"]]},\"legend\":{\"tracegroupgap\":0},\"title\":{\"text\":\"World Map of Vehicles in Forza Horizon 5\"},\"font\":{\"size\":10},\"height\":800},                        {\"responsive\": true}                    ).then(function(){\n",
       "                            \n",
       "var gd = document.getElementById('e822f95c-1643-4fcb-8691-336b940f4462');\n",
       "var x = new MutationObserver(function (mutations, observer) {{\n",
       "        var display = window.getComputedStyle(gd).display;\n",
       "        if (!display || display === 'none') {{\n",
       "            console.log([gd, 'removed!']);\n",
       "            Plotly.purge(gd);\n",
       "            observer.disconnect();\n",
       "        }}\n",
       "}});\n",
       "\n",
       "// Listen for the removal of the full notebook cells\n",
       "var notebookContainer = gd.closest('#notebook-container');\n",
       "if (notebookContainer) {{\n",
       "    x.observe(notebookContainer, {childList: true});\n",
       "}}\n",
       "\n",
       "// Listen for the clearing of the current output cell\n",
       "var outputEl = gd.closest('.output');\n",
       "if (outputEl) {{\n",
       "    x.observe(outputEl, {childList: true});\n",
       "}}\n",
       "\n",
       "                        })                };                });            </script>        </div>"
      ]
     },
     "metadata": {},
     "output_type": "display_data"
    }
   ],
   "source": [
    "fig = px.choropleth(\n",
    "    country_df, \n",
    "    title = \"World Map of Vehicles in Forza Horizon 5\",\n",
    "    locations = \"ISO Alpha\",\n",
    "    color = \"Vehicle Count\",\n",
    "    hover_name = \"Country\",\n",
    "    color_continuous_scale = px.colors.sequential.Plasma\n",
    ")\n",
    "fig.update_layout(\n",
    "    font_size = 10,\n",
    "    height = 800\n",
    ")"
   ]
  }
 ],
 "metadata": {
  "kernelspec": {
   "display_name": "Python 3 (ipykernel)",
   "language": "python",
   "name": "python3"
  },
  "language_info": {
   "codemirror_mode": {
    "name": "ipython",
    "version": 3
   },
   "file_extension": ".py",
   "mimetype": "text/x-python",
   "name": "python",
   "nbconvert_exporter": "python",
   "pygments_lexer": "ipython3",
   "version": "3.12.0"
  }
 },
 "nbformat": 4,
 "nbformat_minor": 5
}
